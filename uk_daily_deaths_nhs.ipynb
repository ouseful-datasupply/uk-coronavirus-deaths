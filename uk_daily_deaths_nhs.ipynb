{
 "cells": [
  {
   "cell_type": "markdown",
   "metadata": {},
   "source": [
    "# Covid-19 Daily Deaths - UK\n",
    "\n",
    "Via: https://www.england.nhs.uk/statistics/statistical-work-areas/covid-19-daily-deaths/\n",
    "\n",
    "At the moment, each time this script runs it downloads all the daily datafiles and builds the db from scratch. We need to optimise things so that only new daily files are parsed and added, incrementally, to the database."
   ]
  },
  {
   "cell_type": "code",
   "execution_count": 39,
   "metadata": {},
   "outputs": [
    {
     "name": "stdout",
     "output_type": "stream",
     "text": [
      "already processed []\n"
     ]
    }
   ],
   "source": [
    "import sqlite_utils\n",
    "#!rm nhs_dailies.db\n",
    "DB = sqlite_utils.Database(\"nhs_dailies.db\")\n",
    "#processed = DB['processed']\n",
    "# Start on a mechanism for only downloading things we haven't already grabbed\n",
    "# Need a better way to handle query onto table if it doesn't exist yet\n",
    "try:\n",
    "    already_processed = pd.read_sql(\"SELECT * FROM processed\", DB.conn)['reference'].to_list()\n",
    "except:\n",
    "    already_processed = []\n",
    "    \n",
    "print(\"already processed\", already_processed)"
   ]
  },
  {
   "cell_type": "markdown",
   "metadata": {},
   "source": [
    "Load the page:"
   ]
  },
  {
   "cell_type": "code",
   "execution_count": 2,
   "metadata": {
    "lines_to_end_of_cell_marker": 2
   },
   "outputs": [],
   "source": [
    "import requests"
   ]
  },
  {
   "cell_type": "code",
   "execution_count": 3,
   "metadata": {
    "lines_to_next_cell": 2
   },
   "outputs": [],
   "source": [
    "from bs4 import BeautifulSoup, SoupStrainer"
   ]
  },
  {
   "cell_type": "markdown",
   "metadata": {},
   "source": [
    "Get the HTML page data into a form we can scrape it:"
   ]
  },
  {
   "cell_type": "markdown",
   "metadata": {},
   "source": [
    "## ONS\n",
    "\n",
    "Death registrations, 2020: https://www.ons.gov.uk/peoplepopulationandcommunity/healthandsocialcare/causesofdeath/datasets/deathregistrationsandoccurrencesbylocalauthorityandhealthboard\n",
    "\n",
    "Weekly Death registrations (provisional):\n",
    "https://www.ons.gov.uk/peoplepopulationandcommunity/birthsdeathsandmarriages/deaths/datasets/weeklyprovisionalfiguresondeathsregisteredinenglandandwales\n"
   ]
  },
  {
   "cell_type": "markdown",
   "metadata": {},
   "source": [
    "### Weekly deaths, ONS:"
   ]
  },
  {
   "cell_type": "code",
   "execution_count": 4,
   "metadata": {},
   "outputs": [],
   "source": [
    "import requests\n",
    "import pandas as pd\n",
    "from bs4 import BeautifulSoup, SoupStrainer\n",
    "import numpy as np"
   ]
  },
  {
   "cell_type": "code",
   "execution_count": 5,
   "metadata": {},
   "outputs": [
    {
     "data": {
      "text/plain": [
       "'/file?uri=%2fpeoplepopulationandcommunity%2fbirthsdeathsandmarriages%2fdeaths%2fdatasets%2fweeklyprovisionalfiguresondeathsregisteredinenglandandwales%2f2020/publishedweek192020.xlsx'"
      ]
     },
     "execution_count": 5,
     "metadata": {},
     "output_type": "execute_result"
    }
   ],
   "source": [
    "base='https://www.ons.gov.uk/peoplepopulationandcommunity/birthsdeathsandmarriages/deaths/datasets/weeklyprovisionalfiguresondeathsregisteredinenglandandwales'\n",
    "page = requests.get(base, allow_redirects=True)\n",
    "soup = BeautifulSoup(page.text, 'lxml')\n",
    "links = {}\n",
    "lahtable_link = ''\n",
    "for link in soup.find_all('a'):\n",
    "    if 'Download Deaths registered weekly' in link.text:\n",
    "        lahtable_link = link.get('href')\n",
    "        break\n",
    "weeklytable_file = lahtable_link#.split('/')[-1]\n",
    "weeklytable_file"
   ]
  },
  {
   "cell_type": "code",
   "execution_count": 6,
   "metadata": {
    "lines_to_next_cell": 2
   },
   "outputs": [
    {
     "name": "stdout",
     "output_type": "stream",
     "text": [
      "https://www.ons.gov.uk/file?uri=%2fpeoplepopulationandcommunity%2fbirthsdeathsandmarriages%2fdeaths%2fdatasets%2fweeklyprovisionalfiguresondeathsregisteredinenglandandwales%2f2020/publishedweek192020.xlsx\n"
     ]
    }
   ],
   "source": [
    "ons_weekly_url = f'https://www.ons.gov.uk{weeklytable_file}'\n",
    "print(ons_weekly_url)"
   ]
  },
  {
   "cell_type": "code",
   "execution_count": 7,
   "metadata": {},
   "outputs": [
    {
     "name": "stdout",
     "output_type": "stream",
     "text": [
      "Writing file...\n",
      "File written...\n"
     ]
    },
    {
     "data": {
      "text/plain": [
       "odict_keys(['Analysis', 'Contents', 'Information', 'Terms and conditions', 'Weekly figures 2020', 'Covid-19 - Weekly registrations', 'Covid-19 - Weekly occurrences', 'UK - Covid-19 - Weekly reg', 'Covid-19 - E&W comparisons', 'Covid-19 - England comparisons', 'Covid-19 - Wales comparison', 'Covid-19 - Place of occurrence ', 'Related publications'])"
      ]
     },
     "execution_count": 7,
     "metadata": {},
     "output_type": "execute_result"
    }
   ],
   "source": [
    "r = requests.get(ons_weekly_url)\n",
    "\n",
    "fn = ons_weekly_url.split('/')[-1]\n",
    "\n",
    "print('Writing file...')\n",
    "with open(fn, 'wb') as f:\n",
    "    f.write(r.content)\n",
    "print('File written...')\n",
    "try:\n",
    "    ons_sheets = pd.read_excel(fn, sheet_name=None)\n",
    "except:\n",
    "    with open(fn) as f:\n",
    "        print(f.read())\n",
    "# What sheets are available in the spreadsheet\n",
    "ons_sheet_names = ons_sheets.keys()\n",
    "ons_sheet_names"
   ]
  },
  {
   "cell_type": "code",
   "execution_count": 8,
   "metadata": {},
   "outputs": [
    {
     "name": "stdout",
     "output_type": "stream",
     "text": [
      "To here 1..\n"
     ]
    },
    {
     "data": {
      "text/html": [
       "<div>\n",
       "<style scoped>\n",
       "    .dataframe tbody tr th:only-of-type {\n",
       "        vertical-align: middle;\n",
       "    }\n",
       "\n",
       "    .dataframe tbody tr th {\n",
       "        vertical-align: top;\n",
       "    }\n",
       "\n",
       "    .dataframe thead th {\n",
       "        text-align: right;\n",
       "    }\n",
       "</style>\n",
       "<table border=\"1\" class=\"dataframe\">\n",
       "  <thead>\n",
       "    <tr style=\"text-align: right;\">\n",
       "      <th></th>\n",
       "      <th>Contents</th>\n",
       "      <th>Unnamed: 1</th>\n",
       "      <th>Unnamed: 2</th>\n",
       "      <th>Unnamed: 3</th>\n",
       "      <th>Unnamed: 4</th>\n",
       "      <th>Unnamed: 5</th>\n",
       "      <th>Unnamed: 6</th>\n",
       "      <th>Unnamed: 7</th>\n",
       "      <th>Unnamed: 8</th>\n",
       "      <th>Unnamed: 9</th>\n",
       "      <th>...</th>\n",
       "      <th>Unnamed: 45</th>\n",
       "      <th>Unnamed: 46</th>\n",
       "      <th>Unnamed: 47</th>\n",
       "      <th>Unnamed: 48</th>\n",
       "      <th>Unnamed: 49</th>\n",
       "      <th>Unnamed: 50</th>\n",
       "      <th>Unnamed: 51</th>\n",
       "      <th>Unnamed: 52</th>\n",
       "      <th>Unnamed: 53</th>\n",
       "      <th>Unnamed: 54</th>\n",
       "    </tr>\n",
       "  </thead>\n",
       "  <tbody>\n",
       "    <tr>\n",
       "      <th>0</th>\n",
       "      <td>Weekly provisional figures on deaths registere...</td>\n",
       "      <td>NaN</td>\n",
       "      <td>NaN</td>\n",
       "      <td>NaN</td>\n",
       "      <td>NaN</td>\n",
       "      <td>NaN</td>\n",
       "      <td>NaN</td>\n",
       "      <td>NaN</td>\n",
       "      <td>NaN</td>\n",
       "      <td>NaN</td>\n",
       "      <td>...</td>\n",
       "      <td>NaN</td>\n",
       "      <td>NaN</td>\n",
       "      <td>NaN</td>\n",
       "      <td>NaN</td>\n",
       "      <td>NaN</td>\n",
       "      <td>NaN</td>\n",
       "      <td>NaN</td>\n",
       "      <td>NaN</td>\n",
       "      <td>NaN</td>\n",
       "      <td>NaN</td>\n",
       "    </tr>\n",
       "    <tr>\n",
       "      <th>1</th>\n",
       "      <td>NaN</td>\n",
       "      <td>NaN</td>\n",
       "      <td>NaN</td>\n",
       "      <td>NaN</td>\n",
       "      <td>NaN</td>\n",
       "      <td>NaN</td>\n",
       "      <td>NaN</td>\n",
       "      <td>NaN</td>\n",
       "      <td>NaN</td>\n",
       "      <td>NaN</td>\n",
       "      <td>...</td>\n",
       "      <td>NaN</td>\n",
       "      <td>NaN</td>\n",
       "      <td>NaN</td>\n",
       "      <td>NaN</td>\n",
       "      <td>NaN</td>\n",
       "      <td>NaN</td>\n",
       "      <td>NaN</td>\n",
       "      <td>NaN</td>\n",
       "      <td>NaN</td>\n",
       "      <td>NaN</td>\n",
       "    </tr>\n",
       "    <tr>\n",
       "      <th>2</th>\n",
       "      <td>Note that up-to-date counts of the total numbe...</td>\n",
       "      <td>NaN</td>\n",
       "      <td>NaN</td>\n",
       "      <td>NaN</td>\n",
       "      <td>NaN</td>\n",
       "      <td>NaN</td>\n",
       "      <td>NaN</td>\n",
       "      <td>NaN</td>\n",
       "      <td>NaN</td>\n",
       "      <td>NaN</td>\n",
       "      <td>...</td>\n",
       "      <td>NaN</td>\n",
       "      <td>NaN</td>\n",
       "      <td>NaN</td>\n",
       "      <td>NaN</td>\n",
       "      <td>NaN</td>\n",
       "      <td>NaN</td>\n",
       "      <td>NaN</td>\n",
       "      <td>NaN</td>\n",
       "      <td>NaN</td>\n",
       "      <td>NaN</td>\n",
       "    </tr>\n",
       "    <tr>\n",
       "      <th>3</th>\n",
       "      <td>Week number</td>\n",
       "      <td>NaN</td>\n",
       "      <td>1</td>\n",
       "      <td>2</td>\n",
       "      <td>3</td>\n",
       "      <td>4</td>\n",
       "      <td>5</td>\n",
       "      <td>6</td>\n",
       "      <td>7</td>\n",
       "      <td>8</td>\n",
       "      <td>...</td>\n",
       "      <td>44</td>\n",
       "      <td>45</td>\n",
       "      <td>46</td>\n",
       "      <td>47</td>\n",
       "      <td>48</td>\n",
       "      <td>49</td>\n",
       "      <td>50</td>\n",
       "      <td>51</td>\n",
       "      <td>52</td>\n",
       "      <td>53</td>\n",
       "    </tr>\n",
       "    <tr>\n",
       "      <th>4</th>\n",
       "      <td>Week ended</td>\n",
       "      <td>NaN</td>\n",
       "      <td>2020-01-03 00:00:00</td>\n",
       "      <td>2020-01-10 00:00:00</td>\n",
       "      <td>2020-01-17 00:00:00</td>\n",
       "      <td>2020-01-24 00:00:00</td>\n",
       "      <td>2020-01-31 00:00:00</td>\n",
       "      <td>2020-02-07 00:00:00</td>\n",
       "      <td>2020-02-14 00:00:00</td>\n",
       "      <td>2020-02-21 00:00:00</td>\n",
       "      <td>...</td>\n",
       "      <td>2020-10-30 00:00:00</td>\n",
       "      <td>2020-11-06 00:00:00</td>\n",
       "      <td>2020-11-13 00:00:00</td>\n",
       "      <td>2020-11-20 00:00:00</td>\n",
       "      <td>2020-11-27 00:00:00</td>\n",
       "      <td>2020-12-04 00:00:00</td>\n",
       "      <td>2020-12-11 00:00:00</td>\n",
       "      <td>2020-12-18 00:00:00</td>\n",
       "      <td>2020-12-25 00:00:00</td>\n",
       "      <td>2021-01-01 00:00:00</td>\n",
       "    </tr>\n",
       "  </tbody>\n",
       "</table>\n",
       "<p>5 rows × 55 columns</p>\n",
       "</div>"
      ],
      "text/plain": [
       "                                            Contents Unnamed: 1  \\\n",
       "0  Weekly provisional figures on deaths registere...        NaN   \n",
       "1                                                NaN        NaN   \n",
       "2  Note that up-to-date counts of the total numbe...        NaN   \n",
       "3                                        Week number        NaN   \n",
       "4                                         Week ended        NaN   \n",
       "\n",
       "            Unnamed: 2           Unnamed: 3           Unnamed: 4  \\\n",
       "0                  NaN                  NaN                  NaN   \n",
       "1                  NaN                  NaN                  NaN   \n",
       "2                  NaN                  NaN                  NaN   \n",
       "3                    1                    2                    3   \n",
       "4  2020-01-03 00:00:00  2020-01-10 00:00:00  2020-01-17 00:00:00   \n",
       "\n",
       "            Unnamed: 5           Unnamed: 6           Unnamed: 7  \\\n",
       "0                  NaN                  NaN                  NaN   \n",
       "1                  NaN                  NaN                  NaN   \n",
       "2                  NaN                  NaN                  NaN   \n",
       "3                    4                    5                    6   \n",
       "4  2020-01-24 00:00:00  2020-01-31 00:00:00  2020-02-07 00:00:00   \n",
       "\n",
       "            Unnamed: 8           Unnamed: 9  ...          Unnamed: 45  \\\n",
       "0                  NaN                  NaN  ...                  NaN   \n",
       "1                  NaN                  NaN  ...                  NaN   \n",
       "2                  NaN                  NaN  ...                  NaN   \n",
       "3                    7                    8  ...                   44   \n",
       "4  2020-02-14 00:00:00  2020-02-21 00:00:00  ...  2020-10-30 00:00:00   \n",
       "\n",
       "           Unnamed: 46          Unnamed: 47          Unnamed: 48  \\\n",
       "0                  NaN                  NaN                  NaN   \n",
       "1                  NaN                  NaN                  NaN   \n",
       "2                  NaN                  NaN                  NaN   \n",
       "3                   45                   46                   47   \n",
       "4  2020-11-06 00:00:00  2020-11-13 00:00:00  2020-11-20 00:00:00   \n",
       "\n",
       "           Unnamed: 49          Unnamed: 50          Unnamed: 51  \\\n",
       "0                  NaN                  NaN                  NaN   \n",
       "1                  NaN                  NaN                  NaN   \n",
       "2                  NaN                  NaN                  NaN   \n",
       "3                   48                   49                   50   \n",
       "4  2020-11-27 00:00:00  2020-12-04 00:00:00  2020-12-11 00:00:00   \n",
       "\n",
       "           Unnamed: 52          Unnamed: 53          Unnamed: 54  \n",
       "0                  NaN                  NaN                  NaN  \n",
       "1                  NaN                  NaN                  NaN  \n",
       "2                  NaN                  NaN                  NaN  \n",
       "3                   51                   52                   53  \n",
       "4  2020-12-18 00:00:00  2020-12-25 00:00:00  2021-01-01 00:00:00  \n",
       "\n",
       "[5 rows x 55 columns]"
      ]
     },
     "execution_count": 8,
     "metadata": {},
     "output_type": "execute_result"
    }
   ],
   "source": [
    "print('To here 1..')\n",
    "ons_weekly_reg = ons_sheets['Covid-19 - Weekly registrations']\n",
    "ons_weekly_reg.head()"
   ]
  },
  {
   "cell_type": "code",
   "execution_count": 9,
   "metadata": {},
   "outputs": [
    {
     "name": "stdout",
     "output_type": "stream",
     "text": [
      "To here 2..\n",
      "                                            Contents Unnamed: 1  \\\n",
      "0  Weekly provisional figures on death occurrence...        NaN   \n",
      "1                                                NaN        NaN   \n",
      "2  Note that up-to-date counts of the total numbe...        NaN   \n",
      "3                                        Week number        NaN   \n",
      "4                                         Week ended        NaN   \n",
      "\n",
      "            Unnamed: 2           Unnamed: 3           Unnamed: 4  \\\n",
      "0                  NaN                  NaN                  NaN   \n",
      "1                  NaN                  NaN                  NaN   \n",
      "2                  NaN                  NaN                  NaN   \n",
      "3                    1                    2                    3   \n",
      "4  2020-01-03 00:00:00  2020-01-10 00:00:00  2020-01-17 00:00:00   \n",
      "\n",
      "            Unnamed: 5           Unnamed: 6           Unnamed: 7  \\\n",
      "0                  NaN                  NaN                  NaN   \n",
      "1                  NaN                  NaN                  NaN   \n",
      "2                  NaN                  NaN                  NaN   \n",
      "3                    4                    5                    6   \n",
      "4  2020-01-24 00:00:00  2020-01-31 00:00:00  2020-02-07 00:00:00   \n",
      "\n",
      "            Unnamed: 8           Unnamed: 9  ...          Unnamed: 46  \\\n",
      "0                  NaN                  NaN  ...                  NaN   \n",
      "1                  NaN                  NaN  ...                  NaN   \n",
      "2                  NaN                  NaN  ...                  NaN   \n",
      "3                    7                    8  ...                   44   \n",
      "4  2020-02-14 00:00:00  2020-02-21 00:00:00  ...  2020-10-30 00:00:00   \n",
      "\n",
      "           Unnamed: 47          Unnamed: 48          Unnamed: 49  \\\n",
      "0                  NaN                  NaN                  NaN   \n",
      "1                  NaN                  NaN                  NaN   \n",
      "2                  NaN                  NaN                  NaN   \n",
      "3                   45                   46                   47   \n",
      "4  2020-11-06 00:00:00  2020-11-13 00:00:00  2020-11-20 00:00:00   \n",
      "\n",
      "           Unnamed: 50          Unnamed: 51          Unnamed: 52  \\\n",
      "0                  NaN                  NaN                  NaN   \n",
      "1                  NaN                  NaN                  NaN   \n",
      "2                  NaN                  NaN                  NaN   \n",
      "3                   48                   49                   50   \n",
      "4  2020-11-27 00:00:00  2020-12-04 00:00:00  2020-12-11 00:00:00   \n",
      "\n",
      "           Unnamed: 53          Unnamed: 54          Unnamed: 55  \n",
      "0                  NaN                  NaN                  NaN  \n",
      "1                  NaN                  NaN                  NaN  \n",
      "2                  NaN                  NaN                  NaN  \n",
      "3                   51                   52                   53  \n",
      "4  2020-12-18 00:00:00  2020-12-25 00:00:00  2021-01-01 00:00:00  \n",
      "\n",
      "[5 rows x 56 columns]\n"
     ]
    }
   ],
   "source": [
    "print('To here 2..')\n",
    "ons_weekly_occ = ons_sheets['Covid-19 - Weekly occurrences']\n",
    "print(ons_weekly_occ.head())"
   ]
  },
  {
   "cell_type": "code",
   "execution_count": 10,
   "metadata": {},
   "outputs": [
    {
     "name": "stdout",
     "output_type": "stream",
     "text": [
      "To here 3..\n"
     ]
    }
   ],
   "source": [
    "print('To here 3..')\n",
    "def ons_weeklies(ons_weekly, typ):\n",
    "    ons_weekly_long = {}\n",
    "    rows, cols = np.where(ons_weekly == 'Week ended')\n",
    "    colnames = ons_weekly.iloc[rows[0]].tolist()\n",
    "    colnames[1] = 'Age'\n",
    "    print('to A')\n",
    "    rows, cols = np.where(ons_weekly == 'Deaths by age group')\n",
    "    print('to B', rows, cols)\n",
    "    _rows, _ = np.where(ons_weekly == '90+')\n",
    "    _ix = rows[0]\n",
    "    print('to C', _rows)\n",
    "    tables = []\n",
    "\n",
    "\n",
    "    #Get the first three tables - for Persons, Males and Females\n",
    "    for r, c in zip(rows, cols):\n",
    "        tables.append(ons_weekly.iloc[r-1, c].split()[0])\n",
    "    print('to D')\n",
    "    for r, _r, t in zip(rows, _rows, tables):\n",
    "        ons_weekly_long[t] = ons_weekly.iloc[r+1: _r+1]\n",
    "        ons_weekly_long[t].columns = colnames\n",
    "        ons_weekly_long[t].dropna(axis=1, how='all', inplace=True)\n",
    "        dropper = [c for c in ons_weekly_long[t].columns if 'to date' in str(c)]\n",
    "        dropper = dropper + [c for c in ons_weekly_long[t].columns if '1 to' in str(c)]\n",
    "        print('to E', r, _r, t, dropper)\n",
    "        if dropper:\n",
    "            ons_weekly_long[t].drop(columns=dropper, inplace=True)\n",
    "        ons_weekly_long[t] = ons_weekly_long[t].melt(id_vars=['Age'], var_name='Date', value_name='value')\n",
    "        ons_weekly_long[t]['measure'] = typ\n",
    "        print(ons_weekly_long[t])\n",
    "        ons_weekly_long[t]['Date'] = pd.to_datetime(ons_weekly_long[t]['Date'])\n",
    "    print('to F', tables)\n",
    "    ons_weekly_long['Any'] = pd.DataFrame()\n",
    "    for t in tables:\n",
    "        ons_weekly_long[t]['Group'] = t\n",
    "        ons_weekly_long['Any'] = pd.concat([ons_weekly_long['Any'], ons_weekly_long[t]])\n",
    "    print('to F')\n",
    "    ons_weekly_long['Any'].reset_index(inplace=True, drop=True)\n",
    "    \n",
    "    return ons_weekly_long"
   ]
  },
  {
   "cell_type": "code",
   "execution_count": 11,
   "metadata": {
    "scrolled": true
   },
   "outputs": [
    {
     "name": "stdout",
     "output_type": "stream",
     "text": [
      "To here 4..\n",
      "to A\n",
      "to B [ 9 31 53] [1 1 1]\n",
      "to C [29 51 73]\n",
      "to D\n",
      "to E 9 29 Persons []\n",
      "       Age       Date value               measure\n",
      "0       <1 2020-01-03     0  Weekly registrations\n",
      "1      1-4 2020-01-03     0  Weekly registrations\n",
      "2      5-9 2020-01-03     0  Weekly registrations\n",
      "3    10-14 2020-01-03     0  Weekly registrations\n",
      "4    15-19 2020-01-03     0  Weekly registrations\n",
      "..     ...        ...   ...                   ...\n",
      "375  70-74 2020-05-08   307  Weekly registrations\n",
      "376  75-79 2020-05-08   464  Weekly registrations\n",
      "377  80-84 2020-05-08   772  Weekly registrations\n",
      "378  85-89 2020-05-08   835  Weekly registrations\n",
      "379    90+ 2020-05-08  1015  Weekly registrations\n",
      "\n",
      "[380 rows x 4 columns]\n",
      "to E 31 51 Males []\n",
      "       Age       Date value               measure\n",
      "0       <1 2020-01-03     0  Weekly registrations\n",
      "1      1-4 2020-01-03     0  Weekly registrations\n",
      "2      5-9 2020-01-03     0  Weekly registrations\n",
      "3    10-14 2020-01-03     0  Weekly registrations\n",
      "4    15-19 2020-01-03     0  Weekly registrations\n",
      "..     ...        ...   ...                   ...\n",
      "375  70-74 2020-05-08   189  Weekly registrations\n",
      "376  75-79 2020-05-08   276  Weekly registrations\n",
      "377  80-84 2020-05-08   433  Weekly registrations\n",
      "378  85-89 2020-05-08   380  Weekly registrations\n",
      "379    90+ 2020-05-08   369  Weekly registrations\n",
      "\n",
      "[380 rows x 4 columns]\n",
      "to E 53 73 Females []\n",
      "       Age       Date value               measure\n",
      "0       <1 2020-01-03     0  Weekly registrations\n",
      "1      1-4 2020-01-03     0  Weekly registrations\n",
      "2      5-9 2020-01-03     0  Weekly registrations\n",
      "3    10-14 2020-01-03     0  Weekly registrations\n",
      "4    15-19 2020-01-03     0  Weekly registrations\n",
      "..     ...        ...   ...                   ...\n",
      "375  70-74 2020-05-08   118  Weekly registrations\n",
      "376  75-79 2020-05-08   188  Weekly registrations\n",
      "377  80-84 2020-05-08   339  Weekly registrations\n",
      "378  85-89 2020-05-08   455  Weekly registrations\n",
      "379    90+ 2020-05-08   646  Weekly registrations\n",
      "\n",
      "[380 rows x 4 columns]\n",
      "to F ['Persons', 'Males', 'Females']\n",
      "to F\n"
     ]
    },
    {
     "name": "stderr",
     "output_type": "stream",
     "text": [
      "/usr/local/lib/python3.7/site-packages/ipykernel_launcher.py:23: SettingWithCopyWarning: \n",
      "A value is trying to be set on a copy of a slice from a DataFrame\n",
      "\n",
      "See the caveats in the documentation: http://pandas.pydata.org/pandas-docs/stable/user_guide/indexing.html#returning-a-view-versus-a-copy\n"
     ]
    },
    {
     "data": {
      "text/html": [
       "<div>\n",
       "<style scoped>\n",
       "    .dataframe tbody tr th:only-of-type {\n",
       "        vertical-align: middle;\n",
       "    }\n",
       "\n",
       "    .dataframe tbody tr th {\n",
       "        vertical-align: top;\n",
       "    }\n",
       "\n",
       "    .dataframe thead th {\n",
       "        text-align: right;\n",
       "    }\n",
       "</style>\n",
       "<table border=\"1\" class=\"dataframe\">\n",
       "  <thead>\n",
       "    <tr style=\"text-align: right;\">\n",
       "      <th></th>\n",
       "      <th>Age</th>\n",
       "      <th>Date</th>\n",
       "      <th>value</th>\n",
       "      <th>measure</th>\n",
       "      <th>Group</th>\n",
       "    </tr>\n",
       "  </thead>\n",
       "  <tbody>\n",
       "    <tr>\n",
       "      <th>0</th>\n",
       "      <td>&lt;1</td>\n",
       "      <td>2020-01-03</td>\n",
       "      <td>0</td>\n",
       "      <td>Weekly registrations</td>\n",
       "      <td>Females</td>\n",
       "    </tr>\n",
       "    <tr>\n",
       "      <th>1</th>\n",
       "      <td>1-4</td>\n",
       "      <td>2020-01-03</td>\n",
       "      <td>0</td>\n",
       "      <td>Weekly registrations</td>\n",
       "      <td>Females</td>\n",
       "    </tr>\n",
       "    <tr>\n",
       "      <th>2</th>\n",
       "      <td>5-9</td>\n",
       "      <td>2020-01-03</td>\n",
       "      <td>0</td>\n",
       "      <td>Weekly registrations</td>\n",
       "      <td>Females</td>\n",
       "    </tr>\n",
       "    <tr>\n",
       "      <th>3</th>\n",
       "      <td>10-14</td>\n",
       "      <td>2020-01-03</td>\n",
       "      <td>0</td>\n",
       "      <td>Weekly registrations</td>\n",
       "      <td>Females</td>\n",
       "    </tr>\n",
       "    <tr>\n",
       "      <th>4</th>\n",
       "      <td>15-19</td>\n",
       "      <td>2020-01-03</td>\n",
       "      <td>0</td>\n",
       "      <td>Weekly registrations</td>\n",
       "      <td>Females</td>\n",
       "    </tr>\n",
       "    <tr>\n",
       "      <th>...</th>\n",
       "      <td>...</td>\n",
       "      <td>...</td>\n",
       "      <td>...</td>\n",
       "      <td>...</td>\n",
       "      <td>...</td>\n",
       "    </tr>\n",
       "    <tr>\n",
       "      <th>375</th>\n",
       "      <td>70-74</td>\n",
       "      <td>2020-05-08</td>\n",
       "      <td>118</td>\n",
       "      <td>Weekly registrations</td>\n",
       "      <td>Females</td>\n",
       "    </tr>\n",
       "    <tr>\n",
       "      <th>376</th>\n",
       "      <td>75-79</td>\n",
       "      <td>2020-05-08</td>\n",
       "      <td>188</td>\n",
       "      <td>Weekly registrations</td>\n",
       "      <td>Females</td>\n",
       "    </tr>\n",
       "    <tr>\n",
       "      <th>377</th>\n",
       "      <td>80-84</td>\n",
       "      <td>2020-05-08</td>\n",
       "      <td>339</td>\n",
       "      <td>Weekly registrations</td>\n",
       "      <td>Females</td>\n",
       "    </tr>\n",
       "    <tr>\n",
       "      <th>378</th>\n",
       "      <td>85-89</td>\n",
       "      <td>2020-05-08</td>\n",
       "      <td>455</td>\n",
       "      <td>Weekly registrations</td>\n",
       "      <td>Females</td>\n",
       "    </tr>\n",
       "    <tr>\n",
       "      <th>379</th>\n",
       "      <td>90+</td>\n",
       "      <td>2020-05-08</td>\n",
       "      <td>646</td>\n",
       "      <td>Weekly registrations</td>\n",
       "      <td>Females</td>\n",
       "    </tr>\n",
       "  </tbody>\n",
       "</table>\n",
       "<p>380 rows × 5 columns</p>\n",
       "</div>"
      ],
      "text/plain": [
       "       Age       Date value               measure    Group\n",
       "0       <1 2020-01-03     0  Weekly registrations  Females\n",
       "1      1-4 2020-01-03     0  Weekly registrations  Females\n",
       "2      5-9 2020-01-03     0  Weekly registrations  Females\n",
       "3    10-14 2020-01-03     0  Weekly registrations  Females\n",
       "4    15-19 2020-01-03     0  Weekly registrations  Females\n",
       "..     ...        ...   ...                   ...      ...\n",
       "375  70-74 2020-05-08   118  Weekly registrations  Females\n",
       "376  75-79 2020-05-08   188  Weekly registrations  Females\n",
       "377  80-84 2020-05-08   339  Weekly registrations  Females\n",
       "378  85-89 2020-05-08   455  Weekly registrations  Females\n",
       "379    90+ 2020-05-08   646  Weekly registrations  Females\n",
       "\n",
       "[380 rows x 5 columns]"
      ]
     },
     "execution_count": 11,
     "metadata": {},
     "output_type": "execute_result"
    }
   ],
   "source": [
    "print('To here 4..')\n",
    "ons_weekly_reg_long = ons_weeklies(ons_weekly_reg, 'Weekly registrations')\n",
    "ons_weekly_reg_long['Females']"
   ]
  },
  {
   "cell_type": "code",
   "execution_count": 12,
   "metadata": {
    "scrolled": true,
    "tags": [
     "active-ipynb"
    ]
   },
   "outputs": [
    {
     "data": {
      "text/html": [
       "<div>\n",
       "<style scoped>\n",
       "    .dataframe tbody tr th:only-of-type {\n",
       "        vertical-align: middle;\n",
       "    }\n",
       "\n",
       "    .dataframe tbody tr th {\n",
       "        vertical-align: top;\n",
       "    }\n",
       "\n",
       "    .dataframe thead th {\n",
       "        text-align: right;\n",
       "    }\n",
       "</style>\n",
       "<table border=\"1\" class=\"dataframe\">\n",
       "  <thead>\n",
       "    <tr style=\"text-align: right;\">\n",
       "      <th></th>\n",
       "      <th>Age</th>\n",
       "      <th>Date</th>\n",
       "      <th>value</th>\n",
       "      <th>measure</th>\n",
       "      <th>Group</th>\n",
       "    </tr>\n",
       "  </thead>\n",
       "  <tbody>\n",
       "    <tr>\n",
       "      <th>0</th>\n",
       "      <td>&lt;1</td>\n",
       "      <td>2020-01-03</td>\n",
       "      <td>0</td>\n",
       "      <td>Weekly registrations</td>\n",
       "      <td>Persons</td>\n",
       "    </tr>\n",
       "    <tr>\n",
       "      <th>1</th>\n",
       "      <td>1-4</td>\n",
       "      <td>2020-01-03</td>\n",
       "      <td>0</td>\n",
       "      <td>Weekly registrations</td>\n",
       "      <td>Persons</td>\n",
       "    </tr>\n",
       "    <tr>\n",
       "      <th>2</th>\n",
       "      <td>5-9</td>\n",
       "      <td>2020-01-03</td>\n",
       "      <td>0</td>\n",
       "      <td>Weekly registrations</td>\n",
       "      <td>Persons</td>\n",
       "    </tr>\n",
       "    <tr>\n",
       "      <th>3</th>\n",
       "      <td>10-14</td>\n",
       "      <td>2020-01-03</td>\n",
       "      <td>0</td>\n",
       "      <td>Weekly registrations</td>\n",
       "      <td>Persons</td>\n",
       "    </tr>\n",
       "    <tr>\n",
       "      <th>4</th>\n",
       "      <td>15-19</td>\n",
       "      <td>2020-01-03</td>\n",
       "      <td>0</td>\n",
       "      <td>Weekly registrations</td>\n",
       "      <td>Persons</td>\n",
       "    </tr>\n",
       "    <tr>\n",
       "      <th>...</th>\n",
       "      <td>...</td>\n",
       "      <td>...</td>\n",
       "      <td>...</td>\n",
       "      <td>...</td>\n",
       "      <td>...</td>\n",
       "    </tr>\n",
       "    <tr>\n",
       "      <th>1135</th>\n",
       "      <td>70-74</td>\n",
       "      <td>2020-05-08</td>\n",
       "      <td>118</td>\n",
       "      <td>Weekly registrations</td>\n",
       "      <td>Females</td>\n",
       "    </tr>\n",
       "    <tr>\n",
       "      <th>1136</th>\n",
       "      <td>75-79</td>\n",
       "      <td>2020-05-08</td>\n",
       "      <td>188</td>\n",
       "      <td>Weekly registrations</td>\n",
       "      <td>Females</td>\n",
       "    </tr>\n",
       "    <tr>\n",
       "      <th>1137</th>\n",
       "      <td>80-84</td>\n",
       "      <td>2020-05-08</td>\n",
       "      <td>339</td>\n",
       "      <td>Weekly registrations</td>\n",
       "      <td>Females</td>\n",
       "    </tr>\n",
       "    <tr>\n",
       "      <th>1138</th>\n",
       "      <td>85-89</td>\n",
       "      <td>2020-05-08</td>\n",
       "      <td>455</td>\n",
       "      <td>Weekly registrations</td>\n",
       "      <td>Females</td>\n",
       "    </tr>\n",
       "    <tr>\n",
       "      <th>1139</th>\n",
       "      <td>90+</td>\n",
       "      <td>2020-05-08</td>\n",
       "      <td>646</td>\n",
       "      <td>Weekly registrations</td>\n",
       "      <td>Females</td>\n",
       "    </tr>\n",
       "  </tbody>\n",
       "</table>\n",
       "<p>1140 rows × 5 columns</p>\n",
       "</div>"
      ],
      "text/plain": [
       "        Age       Date value               measure    Group\n",
       "0        <1 2020-01-03     0  Weekly registrations  Persons\n",
       "1       1-4 2020-01-03     0  Weekly registrations  Persons\n",
       "2       5-9 2020-01-03     0  Weekly registrations  Persons\n",
       "3     10-14 2020-01-03     0  Weekly registrations  Persons\n",
       "4     15-19 2020-01-03     0  Weekly registrations  Persons\n",
       "...     ...        ...   ...                   ...      ...\n",
       "1135  70-74 2020-05-08   118  Weekly registrations  Females\n",
       "1136  75-79 2020-05-08   188  Weekly registrations  Females\n",
       "1137  80-84 2020-05-08   339  Weekly registrations  Females\n",
       "1138  85-89 2020-05-08   455  Weekly registrations  Females\n",
       "1139    90+ 2020-05-08   646  Weekly registrations  Females\n",
       "\n",
       "[1140 rows x 5 columns]"
      ]
     },
     "execution_count": 12,
     "metadata": {},
     "output_type": "execute_result"
    }
   ],
   "source": [
    "ons_weekly_reg_long['Any']"
   ]
  },
  {
   "cell_type": "code",
   "execution_count": 13,
   "metadata": {
    "scrolled": true,
    "tags": [
     "active-ipynb"
    ]
   },
   "outputs": [
    {
     "data": {
      "text/html": [
       "<div>\n",
       "<style scoped>\n",
       "    .dataframe tbody tr th:only-of-type {\n",
       "        vertical-align: middle;\n",
       "    }\n",
       "\n",
       "    .dataframe tbody tr th {\n",
       "        vertical-align: top;\n",
       "    }\n",
       "\n",
       "    .dataframe thead th {\n",
       "        text-align: right;\n",
       "    }\n",
       "</style>\n",
       "<table border=\"1\" class=\"dataframe\">\n",
       "  <thead>\n",
       "    <tr style=\"text-align: right;\">\n",
       "      <th></th>\n",
       "      <th>Contents</th>\n",
       "      <th>Unnamed: 1</th>\n",
       "      <th>Unnamed: 2</th>\n",
       "      <th>Unnamed: 3</th>\n",
       "      <th>Unnamed: 4</th>\n",
       "      <th>Unnamed: 5</th>\n",
       "      <th>Unnamed: 6</th>\n",
       "      <th>Unnamed: 7</th>\n",
       "      <th>Unnamed: 8</th>\n",
       "      <th>Unnamed: 9</th>\n",
       "      <th>...</th>\n",
       "      <th>Unnamed: 46</th>\n",
       "      <th>Unnamed: 47</th>\n",
       "      <th>Unnamed: 48</th>\n",
       "      <th>Unnamed: 49</th>\n",
       "      <th>Unnamed: 50</th>\n",
       "      <th>Unnamed: 51</th>\n",
       "      <th>Unnamed: 52</th>\n",
       "      <th>Unnamed: 53</th>\n",
       "      <th>Unnamed: 54</th>\n",
       "      <th>Unnamed: 55</th>\n",
       "    </tr>\n",
       "  </thead>\n",
       "  <tbody>\n",
       "    <tr>\n",
       "      <th>0</th>\n",
       "      <td>Weekly provisional figures on death occurrence...</td>\n",
       "      <td>NaN</td>\n",
       "      <td>NaN</td>\n",
       "      <td>NaN</td>\n",
       "      <td>NaN</td>\n",
       "      <td>NaN</td>\n",
       "      <td>NaN</td>\n",
       "      <td>NaN</td>\n",
       "      <td>NaN</td>\n",
       "      <td>NaN</td>\n",
       "      <td>...</td>\n",
       "      <td>NaN</td>\n",
       "      <td>NaN</td>\n",
       "      <td>NaN</td>\n",
       "      <td>NaN</td>\n",
       "      <td>NaN</td>\n",
       "      <td>NaN</td>\n",
       "      <td>NaN</td>\n",
       "      <td>NaN</td>\n",
       "      <td>NaN</td>\n",
       "      <td>NaN</td>\n",
       "    </tr>\n",
       "    <tr>\n",
       "      <th>1</th>\n",
       "      <td>NaN</td>\n",
       "      <td>NaN</td>\n",
       "      <td>NaN</td>\n",
       "      <td>NaN</td>\n",
       "      <td>NaN</td>\n",
       "      <td>NaN</td>\n",
       "      <td>NaN</td>\n",
       "      <td>NaN</td>\n",
       "      <td>NaN</td>\n",
       "      <td>NaN</td>\n",
       "      <td>...</td>\n",
       "      <td>NaN</td>\n",
       "      <td>NaN</td>\n",
       "      <td>NaN</td>\n",
       "      <td>NaN</td>\n",
       "      <td>NaN</td>\n",
       "      <td>NaN</td>\n",
       "      <td>NaN</td>\n",
       "      <td>NaN</td>\n",
       "      <td>NaN</td>\n",
       "      <td>NaN</td>\n",
       "    </tr>\n",
       "    <tr>\n",
       "      <th>2</th>\n",
       "      <td>Note that up-to-date counts of the total numbe...</td>\n",
       "      <td>NaN</td>\n",
       "      <td>NaN</td>\n",
       "      <td>NaN</td>\n",
       "      <td>NaN</td>\n",
       "      <td>NaN</td>\n",
       "      <td>NaN</td>\n",
       "      <td>NaN</td>\n",
       "      <td>NaN</td>\n",
       "      <td>NaN</td>\n",
       "      <td>...</td>\n",
       "      <td>NaN</td>\n",
       "      <td>NaN</td>\n",
       "      <td>NaN</td>\n",
       "      <td>NaN</td>\n",
       "      <td>NaN</td>\n",
       "      <td>NaN</td>\n",
       "      <td>NaN</td>\n",
       "      <td>NaN</td>\n",
       "      <td>NaN</td>\n",
       "      <td>NaN</td>\n",
       "    </tr>\n",
       "    <tr>\n",
       "      <th>3</th>\n",
       "      <td>Week number</td>\n",
       "      <td>NaN</td>\n",
       "      <td>1</td>\n",
       "      <td>2</td>\n",
       "      <td>3</td>\n",
       "      <td>4</td>\n",
       "      <td>5</td>\n",
       "      <td>6</td>\n",
       "      <td>7</td>\n",
       "      <td>8</td>\n",
       "      <td>...</td>\n",
       "      <td>44</td>\n",
       "      <td>45</td>\n",
       "      <td>46</td>\n",
       "      <td>47</td>\n",
       "      <td>48</td>\n",
       "      <td>49</td>\n",
       "      <td>50</td>\n",
       "      <td>51</td>\n",
       "      <td>52</td>\n",
       "      <td>53</td>\n",
       "    </tr>\n",
       "    <tr>\n",
       "      <th>4</th>\n",
       "      <td>Week ended</td>\n",
       "      <td>NaN</td>\n",
       "      <td>2020-01-03 00:00:00</td>\n",
       "      <td>2020-01-10 00:00:00</td>\n",
       "      <td>2020-01-17 00:00:00</td>\n",
       "      <td>2020-01-24 00:00:00</td>\n",
       "      <td>2020-01-31 00:00:00</td>\n",
       "      <td>2020-02-07 00:00:00</td>\n",
       "      <td>2020-02-14 00:00:00</td>\n",
       "      <td>2020-02-21 00:00:00</td>\n",
       "      <td>...</td>\n",
       "      <td>2020-10-30 00:00:00</td>\n",
       "      <td>2020-11-06 00:00:00</td>\n",
       "      <td>2020-11-13 00:00:00</td>\n",
       "      <td>2020-11-20 00:00:00</td>\n",
       "      <td>2020-11-27 00:00:00</td>\n",
       "      <td>2020-12-04 00:00:00</td>\n",
       "      <td>2020-12-11 00:00:00</td>\n",
       "      <td>2020-12-18 00:00:00</td>\n",
       "      <td>2020-12-25 00:00:00</td>\n",
       "      <td>2021-01-01 00:00:00</td>\n",
       "    </tr>\n",
       "    <tr>\n",
       "      <th>...</th>\n",
       "      <td>...</td>\n",
       "      <td>...</td>\n",
       "      <td>...</td>\n",
       "      <td>...</td>\n",
       "      <td>...</td>\n",
       "      <td>...</td>\n",
       "      <td>...</td>\n",
       "      <td>...</td>\n",
       "      <td>...</td>\n",
       "      <td>...</td>\n",
       "      <td>...</td>\n",
       "      <td>...</td>\n",
       "      <td>...</td>\n",
       "      <td>...</td>\n",
       "      <td>...</td>\n",
       "      <td>...</td>\n",
       "      <td>...</td>\n",
       "      <td>...</td>\n",
       "      <td>...</td>\n",
       "      <td>...</td>\n",
       "      <td>...</td>\n",
       "    </tr>\n",
       "    <tr>\n",
       "      <th>98</th>\n",
       "      <td>6 These figures represent death occurrences, t...</td>\n",
       "      <td>NaN</td>\n",
       "      <td>NaN</td>\n",
       "      <td>NaN</td>\n",
       "      <td>NaN</td>\n",
       "      <td>NaN</td>\n",
       "      <td>NaN</td>\n",
       "      <td>NaN</td>\n",
       "      <td>NaN</td>\n",
       "      <td>NaN</td>\n",
       "      <td>...</td>\n",
       "      <td>NaN</td>\n",
       "      <td>NaN</td>\n",
       "      <td>NaN</td>\n",
       "      <td>NaN</td>\n",
       "      <td>NaN</td>\n",
       "      <td>NaN</td>\n",
       "      <td>NaN</td>\n",
       "      <td>NaN</td>\n",
       "      <td>NaN</td>\n",
       "      <td>NaN</td>\n",
       "    </tr>\n",
       "    <tr>\n",
       "      <th>99</th>\n",
       "      <td>NaN</td>\n",
       "      <td>NaN</td>\n",
       "      <td>NaN</td>\n",
       "      <td>NaN</td>\n",
       "      <td>NaN</td>\n",
       "      <td>NaN</td>\n",
       "      <td>NaN</td>\n",
       "      <td>NaN</td>\n",
       "      <td>NaN</td>\n",
       "      <td>NaN</td>\n",
       "      <td>...</td>\n",
       "      <td>NaN</td>\n",
       "      <td>NaN</td>\n",
       "      <td>NaN</td>\n",
       "      <td>NaN</td>\n",
       "      <td>NaN</td>\n",
       "      <td>NaN</td>\n",
       "      <td>NaN</td>\n",
       "      <td>NaN</td>\n",
       "      <td>NaN</td>\n",
       "      <td>NaN</td>\n",
       "    </tr>\n",
       "    <tr>\n",
       "      <th>100</th>\n",
       "      <td>7ONS deaths by actual date of death – register...</td>\n",
       "      <td>NaN</td>\n",
       "      <td>NaN</td>\n",
       "      <td>NaN</td>\n",
       "      <td>NaN</td>\n",
       "      <td>NaN</td>\n",
       "      <td>NaN</td>\n",
       "      <td>NaN</td>\n",
       "      <td>NaN</td>\n",
       "      <td>NaN</td>\n",
       "      <td>...</td>\n",
       "      <td>NaN</td>\n",
       "      <td>NaN</td>\n",
       "      <td>NaN</td>\n",
       "      <td>NaN</td>\n",
       "      <td>NaN</td>\n",
       "      <td>NaN</td>\n",
       "      <td>NaN</td>\n",
       "      <td>NaN</td>\n",
       "      <td>NaN</td>\n",
       "      <td>NaN</td>\n",
       "    </tr>\n",
       "    <tr>\n",
       "      <th>101</th>\n",
       "      <td>NaN</td>\n",
       "      <td>NaN</td>\n",
       "      <td>NaN</td>\n",
       "      <td>NaN</td>\n",
       "      <td>NaN</td>\n",
       "      <td>NaN</td>\n",
       "      <td>NaN</td>\n",
       "      <td>NaN</td>\n",
       "      <td>NaN</td>\n",
       "      <td>NaN</td>\n",
       "      <td>...</td>\n",
       "      <td>NaN</td>\n",
       "      <td>NaN</td>\n",
       "      <td>NaN</td>\n",
       "      <td>NaN</td>\n",
       "      <td>NaN</td>\n",
       "      <td>NaN</td>\n",
       "      <td>NaN</td>\n",
       "      <td>NaN</td>\n",
       "      <td>NaN</td>\n",
       "      <td>NaN</td>\n",
       "    </tr>\n",
       "    <tr>\n",
       "      <th>102</th>\n",
       "      <td>Source: Office for National Statistics</td>\n",
       "      <td>NaN</td>\n",
       "      <td>NaN</td>\n",
       "      <td>NaN</td>\n",
       "      <td>NaN</td>\n",
       "      <td>NaN</td>\n",
       "      <td>NaN</td>\n",
       "      <td>NaN</td>\n",
       "      <td>NaN</td>\n",
       "      <td>NaN</td>\n",
       "      <td>...</td>\n",
       "      <td>NaN</td>\n",
       "      <td>NaN</td>\n",
       "      <td>NaN</td>\n",
       "      <td>NaN</td>\n",
       "      <td>NaN</td>\n",
       "      <td>NaN</td>\n",
       "      <td>NaN</td>\n",
       "      <td>NaN</td>\n",
       "      <td>NaN</td>\n",
       "      <td>NaN</td>\n",
       "    </tr>\n",
       "  </tbody>\n",
       "</table>\n",
       "<p>103 rows × 56 columns</p>\n",
       "</div>"
      ],
      "text/plain": [
       "                                              Contents Unnamed: 1  \\\n",
       "0    Weekly provisional figures on death occurrence...        NaN   \n",
       "1                                                  NaN        NaN   \n",
       "2    Note that up-to-date counts of the total numbe...        NaN   \n",
       "3                                          Week number        NaN   \n",
       "4                                           Week ended        NaN   \n",
       "..                                                 ...        ...   \n",
       "98   6 These figures represent death occurrences, t...        NaN   \n",
       "99                                                 NaN        NaN   \n",
       "100  7ONS deaths by actual date of death – register...        NaN   \n",
       "101                                                NaN        NaN   \n",
       "102             Source: Office for National Statistics        NaN   \n",
       "\n",
       "              Unnamed: 2           Unnamed: 3           Unnamed: 4  \\\n",
       "0                    NaN                  NaN                  NaN   \n",
       "1                    NaN                  NaN                  NaN   \n",
       "2                    NaN                  NaN                  NaN   \n",
       "3                      1                    2                    3   \n",
       "4    2020-01-03 00:00:00  2020-01-10 00:00:00  2020-01-17 00:00:00   \n",
       "..                   ...                  ...                  ...   \n",
       "98                   NaN                  NaN                  NaN   \n",
       "99                   NaN                  NaN                  NaN   \n",
       "100                  NaN                  NaN                  NaN   \n",
       "101                  NaN                  NaN                  NaN   \n",
       "102                  NaN                  NaN                  NaN   \n",
       "\n",
       "              Unnamed: 5           Unnamed: 6           Unnamed: 7  \\\n",
       "0                    NaN                  NaN                  NaN   \n",
       "1                    NaN                  NaN                  NaN   \n",
       "2                    NaN                  NaN                  NaN   \n",
       "3                      4                    5                    6   \n",
       "4    2020-01-24 00:00:00  2020-01-31 00:00:00  2020-02-07 00:00:00   \n",
       "..                   ...                  ...                  ...   \n",
       "98                   NaN                  NaN                  NaN   \n",
       "99                   NaN                  NaN                  NaN   \n",
       "100                  NaN                  NaN                  NaN   \n",
       "101                  NaN                  NaN                  NaN   \n",
       "102                  NaN                  NaN                  NaN   \n",
       "\n",
       "              Unnamed: 8           Unnamed: 9  ...          Unnamed: 46  \\\n",
       "0                    NaN                  NaN  ...                  NaN   \n",
       "1                    NaN                  NaN  ...                  NaN   \n",
       "2                    NaN                  NaN  ...                  NaN   \n",
       "3                      7                    8  ...                   44   \n",
       "4    2020-02-14 00:00:00  2020-02-21 00:00:00  ...  2020-10-30 00:00:00   \n",
       "..                   ...                  ...  ...                  ...   \n",
       "98                   NaN                  NaN  ...                  NaN   \n",
       "99                   NaN                  NaN  ...                  NaN   \n",
       "100                  NaN                  NaN  ...                  NaN   \n",
       "101                  NaN                  NaN  ...                  NaN   \n",
       "102                  NaN                  NaN  ...                  NaN   \n",
       "\n",
       "             Unnamed: 47          Unnamed: 48          Unnamed: 49  \\\n",
       "0                    NaN                  NaN                  NaN   \n",
       "1                    NaN                  NaN                  NaN   \n",
       "2                    NaN                  NaN                  NaN   \n",
       "3                     45                   46                   47   \n",
       "4    2020-11-06 00:00:00  2020-11-13 00:00:00  2020-11-20 00:00:00   \n",
       "..                   ...                  ...                  ...   \n",
       "98                   NaN                  NaN                  NaN   \n",
       "99                   NaN                  NaN                  NaN   \n",
       "100                  NaN                  NaN                  NaN   \n",
       "101                  NaN                  NaN                  NaN   \n",
       "102                  NaN                  NaN                  NaN   \n",
       "\n",
       "             Unnamed: 50          Unnamed: 51          Unnamed: 52  \\\n",
       "0                    NaN                  NaN                  NaN   \n",
       "1                    NaN                  NaN                  NaN   \n",
       "2                    NaN                  NaN                  NaN   \n",
       "3                     48                   49                   50   \n",
       "4    2020-11-27 00:00:00  2020-12-04 00:00:00  2020-12-11 00:00:00   \n",
       "..                   ...                  ...                  ...   \n",
       "98                   NaN                  NaN                  NaN   \n",
       "99                   NaN                  NaN                  NaN   \n",
       "100                  NaN                  NaN                  NaN   \n",
       "101                  NaN                  NaN                  NaN   \n",
       "102                  NaN                  NaN                  NaN   \n",
       "\n",
       "             Unnamed: 53          Unnamed: 54          Unnamed: 55  \n",
       "0                    NaN                  NaN                  NaN  \n",
       "1                    NaN                  NaN                  NaN  \n",
       "2                    NaN                  NaN                  NaN  \n",
       "3                     51                   52                   53  \n",
       "4    2020-12-18 00:00:00  2020-12-25 00:00:00  2021-01-01 00:00:00  \n",
       "..                   ...                  ...                  ...  \n",
       "98                   NaN                  NaN                  NaN  \n",
       "99                   NaN                  NaN                  NaN  \n",
       "100                  NaN                  NaN                  NaN  \n",
       "101                  NaN                  NaN                  NaN  \n",
       "102                  NaN                  NaN                  NaN  \n",
       "\n",
       "[103 rows x 56 columns]"
      ]
     },
     "execution_count": 13,
     "metadata": {},
     "output_type": "execute_result"
    }
   ],
   "source": [
    "ons_weekly_occ"
   ]
  },
  {
   "cell_type": "code",
   "execution_count": 14,
   "metadata": {
    "scrolled": true
   },
   "outputs": [
    {
     "name": "stderr",
     "output_type": "stream",
     "text": [
      "/usr/local/lib/python3.7/site-packages/ipykernel_launcher.py:23: SettingWithCopyWarning: \n",
      "A value is trying to be set on a copy of a slice from a DataFrame\n",
      "\n",
      "See the caveats in the documentation: http://pandas.pydata.org/pandas-docs/stable/user_guide/indexing.html#returning-a-view-versus-a-copy\n",
      "/usr/local/lib/python3.7/site-packages/pandas/core/frame.py:4117: SettingWithCopyWarning: \n",
      "A value is trying to be set on a copy of a slice from a DataFrame\n",
      "\n",
      "See the caveats in the documentation: http://pandas.pydata.org/pandas-docs/stable/user_guide/indexing.html#returning-a-view-versus-a-copy\n",
      "  errors=errors,\n"
     ]
    },
    {
     "name": "stdout",
     "output_type": "stream",
     "text": [
      "To here 5..\n",
      "to A\n",
      "to B [ 9 31 53] [1 1 1]\n",
      "to C [29 51 73]\n",
      "to D\n",
      "to E 9 29 Persons ['1 to 19']\n",
      "       Age       Date value             measure\n",
      "0       <1 2020-01-03     0  Weekly occurrences\n",
      "1      1-4 2020-01-03     0  Weekly occurrences\n",
      "2      5-9 2020-01-03     0  Weekly occurrences\n",
      "3    10-14 2020-01-03     0  Weekly occurrences\n",
      "4    15-19 2020-01-03     0  Weekly occurrences\n",
      "..     ...        ...   ...                 ...\n",
      "375  70-74 2020-05-08   310  Weekly occurrences\n",
      "376  75-79 2020-05-08   436  Weekly occurrences\n",
      "377  80-84 2020-05-08   645  Weekly occurrences\n",
      "378  85-89 2020-05-08   804  Weekly occurrences\n",
      "379    90+ 2020-05-08   935  Weekly occurrences\n",
      "\n",
      "[380 rows x 4 columns]\n",
      "to E 31 51 Males ['1 to 19']\n",
      "       Age       Date value             measure\n",
      "0       <1 2020-01-03     0  Weekly occurrences\n",
      "1      1-4 2020-01-03     0  Weekly occurrences\n",
      "2      5-9 2020-01-03     0  Weekly occurrences\n",
      "3    10-14 2020-01-03     0  Weekly occurrences\n",
      "4    15-19 2020-01-03     0  Weekly occurrences\n",
      "..     ...        ...   ...                 ...\n",
      "375  70-74 2020-05-08   192  Weekly occurrences\n",
      "376  75-79 2020-05-08   262  Weekly occurrences\n",
      "377  80-84 2020-05-08   355  Weekly occurrences\n",
      "378  85-89 2020-05-08   349  Weekly occurrences\n",
      "379    90+ 2020-05-08   340  Weekly occurrences\n",
      "\n",
      "[380 rows x 4 columns]\n",
      "to E 53 73 Females ['1 to 19']\n",
      "       Age       Date value             measure\n",
      "0       <1 2020-01-03     0  Weekly occurrences\n",
      "1      1-4 2020-01-03     0  Weekly occurrences\n",
      "2      5-9 2020-01-03     0  Weekly occurrences\n",
      "3    10-14 2020-01-03     0  Weekly occurrences\n",
      "4    15-19 2020-01-03     0  Weekly occurrences\n",
      "..     ...        ...   ...                 ...\n",
      "375  70-74 2020-05-08   118  Weekly occurrences\n",
      "376  75-79 2020-05-08   174  Weekly occurrences\n",
      "377  80-84 2020-05-08   290  Weekly occurrences\n",
      "378  85-89 2020-05-08   455  Weekly occurrences\n",
      "379    90+ 2020-05-08   595  Weekly occurrences\n",
      "\n",
      "[380 rows x 4 columns]\n",
      "to F ['Persons', 'Males', 'Females']\n",
      "to F\n"
     ]
    },
    {
     "data": {
      "text/html": [
       "<div>\n",
       "<style scoped>\n",
       "    .dataframe tbody tr th:only-of-type {\n",
       "        vertical-align: middle;\n",
       "    }\n",
       "\n",
       "    .dataframe tbody tr th {\n",
       "        vertical-align: top;\n",
       "    }\n",
       "\n",
       "    .dataframe thead th {\n",
       "        text-align: right;\n",
       "    }\n",
       "</style>\n",
       "<table border=\"1\" class=\"dataframe\">\n",
       "  <thead>\n",
       "    <tr style=\"text-align: right;\">\n",
       "      <th></th>\n",
       "      <th>Age</th>\n",
       "      <th>Date</th>\n",
       "      <th>value</th>\n",
       "      <th>measure</th>\n",
       "      <th>Group</th>\n",
       "    </tr>\n",
       "  </thead>\n",
       "  <tbody>\n",
       "    <tr>\n",
       "      <th>0</th>\n",
       "      <td>&lt;1</td>\n",
       "      <td>2020-01-03</td>\n",
       "      <td>0</td>\n",
       "      <td>Weekly occurrences</td>\n",
       "      <td>Males</td>\n",
       "    </tr>\n",
       "    <tr>\n",
       "      <th>1</th>\n",
       "      <td>1-4</td>\n",
       "      <td>2020-01-03</td>\n",
       "      <td>0</td>\n",
       "      <td>Weekly occurrences</td>\n",
       "      <td>Males</td>\n",
       "    </tr>\n",
       "    <tr>\n",
       "      <th>2</th>\n",
       "      <td>5-9</td>\n",
       "      <td>2020-01-03</td>\n",
       "      <td>0</td>\n",
       "      <td>Weekly occurrences</td>\n",
       "      <td>Males</td>\n",
       "    </tr>\n",
       "    <tr>\n",
       "      <th>3</th>\n",
       "      <td>10-14</td>\n",
       "      <td>2020-01-03</td>\n",
       "      <td>0</td>\n",
       "      <td>Weekly occurrences</td>\n",
       "      <td>Males</td>\n",
       "    </tr>\n",
       "    <tr>\n",
       "      <th>4</th>\n",
       "      <td>15-19</td>\n",
       "      <td>2020-01-03</td>\n",
       "      <td>0</td>\n",
       "      <td>Weekly occurrences</td>\n",
       "      <td>Males</td>\n",
       "    </tr>\n",
       "    <tr>\n",
       "      <th>...</th>\n",
       "      <td>...</td>\n",
       "      <td>...</td>\n",
       "      <td>...</td>\n",
       "      <td>...</td>\n",
       "      <td>...</td>\n",
       "    </tr>\n",
       "    <tr>\n",
       "      <th>375</th>\n",
       "      <td>70-74</td>\n",
       "      <td>2020-05-08</td>\n",
       "      <td>192</td>\n",
       "      <td>Weekly occurrences</td>\n",
       "      <td>Males</td>\n",
       "    </tr>\n",
       "    <tr>\n",
       "      <th>376</th>\n",
       "      <td>75-79</td>\n",
       "      <td>2020-05-08</td>\n",
       "      <td>262</td>\n",
       "      <td>Weekly occurrences</td>\n",
       "      <td>Males</td>\n",
       "    </tr>\n",
       "    <tr>\n",
       "      <th>377</th>\n",
       "      <td>80-84</td>\n",
       "      <td>2020-05-08</td>\n",
       "      <td>355</td>\n",
       "      <td>Weekly occurrences</td>\n",
       "      <td>Males</td>\n",
       "    </tr>\n",
       "    <tr>\n",
       "      <th>378</th>\n",
       "      <td>85-89</td>\n",
       "      <td>2020-05-08</td>\n",
       "      <td>349</td>\n",
       "      <td>Weekly occurrences</td>\n",
       "      <td>Males</td>\n",
       "    </tr>\n",
       "    <tr>\n",
       "      <th>379</th>\n",
       "      <td>90+</td>\n",
       "      <td>2020-05-08</td>\n",
       "      <td>340</td>\n",
       "      <td>Weekly occurrences</td>\n",
       "      <td>Males</td>\n",
       "    </tr>\n",
       "  </tbody>\n",
       "</table>\n",
       "<p>380 rows × 5 columns</p>\n",
       "</div>"
      ],
      "text/plain": [
       "       Age       Date value             measure  Group\n",
       "0       <1 2020-01-03     0  Weekly occurrences  Males\n",
       "1      1-4 2020-01-03     0  Weekly occurrences  Males\n",
       "2      5-9 2020-01-03     0  Weekly occurrences  Males\n",
       "3    10-14 2020-01-03     0  Weekly occurrences  Males\n",
       "4    15-19 2020-01-03     0  Weekly occurrences  Males\n",
       "..     ...        ...   ...                 ...    ...\n",
       "375  70-74 2020-05-08   192  Weekly occurrences  Males\n",
       "376  75-79 2020-05-08   262  Weekly occurrences  Males\n",
       "377  80-84 2020-05-08   355  Weekly occurrences  Males\n",
       "378  85-89 2020-05-08   349  Weekly occurrences  Males\n",
       "379    90+ 2020-05-08   340  Weekly occurrences  Males\n",
       "\n",
       "[380 rows x 5 columns]"
      ]
     },
     "execution_count": 14,
     "metadata": {},
     "output_type": "execute_result"
    }
   ],
   "source": [
    "print('To here 5..')\n",
    "ons_weekly_occ_long = ons_weeklies(ons_weekly_occ, 'Weekly occurrences')\n",
    "ons_weekly_occ_long['Males']"
   ]
  },
  {
   "cell_type": "code",
   "execution_count": 15,
   "metadata": {
    "scrolled": true
   },
   "outputs": [
    {
     "name": "stdout",
     "output_type": "stream",
     "text": [
      "To here 6..\n"
     ]
    },
    {
     "data": {
      "text/html": [
       "<div>\n",
       "<style scoped>\n",
       "    .dataframe tbody tr th:only-of-type {\n",
       "        vertical-align: middle;\n",
       "    }\n",
       "\n",
       "    .dataframe tbody tr th {\n",
       "        vertical-align: top;\n",
       "    }\n",
       "\n",
       "    .dataframe thead th {\n",
       "        text-align: right;\n",
       "    }\n",
       "</style>\n",
       "<table border=\"1\" class=\"dataframe\">\n",
       "  <thead>\n",
       "    <tr style=\"text-align: right;\">\n",
       "      <th></th>\n",
       "      <th>Contents</th>\n",
       "      <th>Unnamed: 1</th>\n",
       "      <th>Unnamed: 2</th>\n",
       "      <th>Unnamed: 3</th>\n",
       "      <th>Unnamed: 4</th>\n",
       "      <th>Unnamed: 5</th>\n",
       "      <th>Unnamed: 6</th>\n",
       "      <th>Unnamed: 7</th>\n",
       "      <th>Unnamed: 8</th>\n",
       "      <th>Unnamed: 9</th>\n",
       "      <th>...</th>\n",
       "      <th>Unnamed: 45</th>\n",
       "      <th>Unnamed: 46</th>\n",
       "      <th>Unnamed: 47</th>\n",
       "      <th>Unnamed: 48</th>\n",
       "      <th>Unnamed: 49</th>\n",
       "      <th>Unnamed: 50</th>\n",
       "      <th>Unnamed: 51</th>\n",
       "      <th>Unnamed: 52</th>\n",
       "      <th>Unnamed: 53</th>\n",
       "      <th>Unnamed: 54</th>\n",
       "    </tr>\n",
       "  </thead>\n",
       "  <tbody>\n",
       "    <tr>\n",
       "      <th>0</th>\n",
       "      <td>Weekly provisional figures on deaths registere...</td>\n",
       "      <td>NaN</td>\n",
       "      <td>NaN</td>\n",
       "      <td>NaN</td>\n",
       "      <td>NaN</td>\n",
       "      <td>NaN</td>\n",
       "      <td>NaN</td>\n",
       "      <td>NaN</td>\n",
       "      <td>NaN</td>\n",
       "      <td>NaN</td>\n",
       "      <td>...</td>\n",
       "      <td>NaN</td>\n",
       "      <td>NaN</td>\n",
       "      <td>NaN</td>\n",
       "      <td>NaN</td>\n",
       "      <td>NaN</td>\n",
       "      <td>NaN</td>\n",
       "      <td>NaN</td>\n",
       "      <td>NaN</td>\n",
       "      <td>NaN</td>\n",
       "      <td>NaN</td>\n",
       "    </tr>\n",
       "    <tr>\n",
       "      <th>1</th>\n",
       "      <td>NaN</td>\n",
       "      <td>NaN</td>\n",
       "      <td>NaN</td>\n",
       "      <td>NaN</td>\n",
       "      <td>NaN</td>\n",
       "      <td>NaN</td>\n",
       "      <td>NaN</td>\n",
       "      <td>NaN</td>\n",
       "      <td>NaN</td>\n",
       "      <td>NaN</td>\n",
       "      <td>...</td>\n",
       "      <td>NaN</td>\n",
       "      <td>NaN</td>\n",
       "      <td>NaN</td>\n",
       "      <td>NaN</td>\n",
       "      <td>NaN</td>\n",
       "      <td>NaN</td>\n",
       "      <td>NaN</td>\n",
       "      <td>NaN</td>\n",
       "      <td>NaN</td>\n",
       "      <td>NaN</td>\n",
       "    </tr>\n",
       "    <tr>\n",
       "      <th>2</th>\n",
       "      <td>Note that up-to-date counts of the total numbe...</td>\n",
       "      <td>NaN</td>\n",
       "      <td>NaN</td>\n",
       "      <td>NaN</td>\n",
       "      <td>NaN</td>\n",
       "      <td>NaN</td>\n",
       "      <td>NaN</td>\n",
       "      <td>NaN</td>\n",
       "      <td>NaN</td>\n",
       "      <td>NaN</td>\n",
       "      <td>...</td>\n",
       "      <td>NaN</td>\n",
       "      <td>NaN</td>\n",
       "      <td>NaN</td>\n",
       "      <td>NaN</td>\n",
       "      <td>NaN</td>\n",
       "      <td>NaN</td>\n",
       "      <td>NaN</td>\n",
       "      <td>NaN</td>\n",
       "      <td>NaN</td>\n",
       "      <td>NaN</td>\n",
       "    </tr>\n",
       "    <tr>\n",
       "      <th>3</th>\n",
       "      <td>Week number</td>\n",
       "      <td>NaN</td>\n",
       "      <td>1</td>\n",
       "      <td>2</td>\n",
       "      <td>3</td>\n",
       "      <td>4</td>\n",
       "      <td>5</td>\n",
       "      <td>6</td>\n",
       "      <td>7</td>\n",
       "      <td>8</td>\n",
       "      <td>...</td>\n",
       "      <td>44</td>\n",
       "      <td>45</td>\n",
       "      <td>46</td>\n",
       "      <td>47</td>\n",
       "      <td>48</td>\n",
       "      <td>49</td>\n",
       "      <td>50</td>\n",
       "      <td>51</td>\n",
       "      <td>52</td>\n",
       "      <td>53</td>\n",
       "    </tr>\n",
       "    <tr>\n",
       "      <th>4</th>\n",
       "      <td>Week ended</td>\n",
       "      <td>NaN</td>\n",
       "      <td>2020-01-03 00:00:00</td>\n",
       "      <td>2020-01-10 00:00:00</td>\n",
       "      <td>2020-01-17 00:00:00</td>\n",
       "      <td>2020-01-24 00:00:00</td>\n",
       "      <td>2020-01-31 00:00:00</td>\n",
       "      <td>2020-02-07 00:00:00</td>\n",
       "      <td>2020-02-14 00:00:00</td>\n",
       "      <td>2020-02-21 00:00:00</td>\n",
       "      <td>...</td>\n",
       "      <td>2020-10-30 00:00:00</td>\n",
       "      <td>2020-11-06 00:00:00</td>\n",
       "      <td>2020-11-13 00:00:00</td>\n",
       "      <td>2020-11-20 00:00:00</td>\n",
       "      <td>2020-11-27 00:00:00</td>\n",
       "      <td>2020-12-04 00:00:00</td>\n",
       "      <td>2020-12-11 00:00:00</td>\n",
       "      <td>2020-12-18 00:00:00</td>\n",
       "      <td>2020-12-25 00:00:00</td>\n",
       "      <td>2021-01-01 00:00:00</td>\n",
       "    </tr>\n",
       "  </tbody>\n",
       "</table>\n",
       "<p>5 rows × 55 columns</p>\n",
       "</div>"
      ],
      "text/plain": [
       "                                            Contents Unnamed: 1  \\\n",
       "0  Weekly provisional figures on deaths registere...        NaN   \n",
       "1                                                NaN        NaN   \n",
       "2  Note that up-to-date counts of the total numbe...        NaN   \n",
       "3                                        Week number        NaN   \n",
       "4                                         Week ended        NaN   \n",
       "\n",
       "            Unnamed: 2           Unnamed: 3           Unnamed: 4  \\\n",
       "0                  NaN                  NaN                  NaN   \n",
       "1                  NaN                  NaN                  NaN   \n",
       "2                  NaN                  NaN                  NaN   \n",
       "3                    1                    2                    3   \n",
       "4  2020-01-03 00:00:00  2020-01-10 00:00:00  2020-01-17 00:00:00   \n",
       "\n",
       "            Unnamed: 5           Unnamed: 6           Unnamed: 7  \\\n",
       "0                  NaN                  NaN                  NaN   \n",
       "1                  NaN                  NaN                  NaN   \n",
       "2                  NaN                  NaN                  NaN   \n",
       "3                    4                    5                    6   \n",
       "4  2020-01-24 00:00:00  2020-01-31 00:00:00  2020-02-07 00:00:00   \n",
       "\n",
       "            Unnamed: 8           Unnamed: 9  ...          Unnamed: 45  \\\n",
       "0                  NaN                  NaN  ...                  NaN   \n",
       "1                  NaN                  NaN  ...                  NaN   \n",
       "2                  NaN                  NaN  ...                  NaN   \n",
       "3                    7                    8  ...                   44   \n",
       "4  2020-02-14 00:00:00  2020-02-21 00:00:00  ...  2020-10-30 00:00:00   \n",
       "\n",
       "           Unnamed: 46          Unnamed: 47          Unnamed: 48  \\\n",
       "0                  NaN                  NaN                  NaN   \n",
       "1                  NaN                  NaN                  NaN   \n",
       "2                  NaN                  NaN                  NaN   \n",
       "3                   45                   46                   47   \n",
       "4  2020-11-06 00:00:00  2020-11-13 00:00:00  2020-11-20 00:00:00   \n",
       "\n",
       "           Unnamed: 49          Unnamed: 50          Unnamed: 51  \\\n",
       "0                  NaN                  NaN                  NaN   \n",
       "1                  NaN                  NaN                  NaN   \n",
       "2                  NaN                  NaN                  NaN   \n",
       "3                   48                   49                   50   \n",
       "4  2020-11-27 00:00:00  2020-12-04 00:00:00  2020-12-11 00:00:00   \n",
       "\n",
       "           Unnamed: 52          Unnamed: 53          Unnamed: 54  \n",
       "0                  NaN                  NaN                  NaN  \n",
       "1                  NaN                  NaN                  NaN  \n",
       "2                  NaN                  NaN                  NaN  \n",
       "3                   51                   52                   53  \n",
       "4  2020-12-18 00:00:00  2020-12-25 00:00:00  2021-01-01 00:00:00  \n",
       "\n",
       "[5 rows x 55 columns]"
      ]
     },
     "execution_count": 15,
     "metadata": {},
     "output_type": "execute_result"
    }
   ],
   "source": [
    "print('To here 6..')\n",
    "ons_weekly_all = ons_sheets['Weekly figures 2020']\n",
    "ons_weekly_all.head()"
   ]
  },
  {
   "cell_type": "code",
   "execution_count": 16,
   "metadata": {},
   "outputs": [
    {
     "name": "stdout",
     "output_type": "stream",
     "text": [
      "To here 7..\n",
      "to A\n",
      "to B [19 41 63] [1 1 1]\n"
     ]
    },
    {
     "name": "stderr",
     "output_type": "stream",
     "text": [
      "/usr/local/lib/python3.7/site-packages/ipykernel_launcher.py:23: SettingWithCopyWarning: \n",
      "A value is trying to be set on a copy of a slice from a DataFrame\n",
      "\n",
      "See the caveats in the documentation: http://pandas.pydata.org/pandas-docs/stable/user_guide/indexing.html#returning-a-view-versus-a-copy\n"
     ]
    },
    {
     "name": "stdout",
     "output_type": "stream",
     "text": [
      "to C [39 61 83]\n",
      "to D\n",
      "to E 19 39 Persons []\n",
      "       Age       Date value               measure\n",
      "0       <1 2020-01-03    48  Weekly all mortality\n",
      "1      1-4 2020-01-03     8  Weekly all mortality\n",
      "2      5-9 2020-01-03     4  Weekly all mortality\n",
      "3    10-14 2020-01-03     4  Weekly all mortality\n",
      "4    15-19 2020-01-03     6  Weekly all mortality\n",
      "..     ...        ...   ...                   ...\n",
      "375  70-74 2020-05-08  1172  Weekly all mortality\n",
      "376  75-79 2020-05-08  1528  Weekly all mortality\n",
      "377  80-84 2020-05-08  2099  Weekly all mortality\n",
      "378  85-89 2020-05-08  2441  Weekly all mortality\n",
      "379    90+ 2020-05-08  3003  Weekly all mortality\n",
      "\n",
      "[380 rows x 4 columns]\n",
      "to E 41 61 Males []\n",
      "       Age       Date value               measure\n",
      "0       <1 2020-01-03    30  Weekly all mortality\n",
      "1      1-4 2020-01-03     5  Weekly all mortality\n",
      "2      5-9 2020-01-03     2  Weekly all mortality\n",
      "3    10-14 2020-01-03     1  Weekly all mortality\n",
      "4    15-19 2020-01-03     5  Weekly all mortality\n",
      "..     ...        ...   ...                   ...\n",
      "375  70-74 2020-05-08   682  Weekly all mortality\n",
      "376  75-79 2020-05-08   867  Weekly all mortality\n",
      "377  80-84 2020-05-08  1112  Weekly all mortality\n",
      "378  85-89 2020-05-08  1089  Weekly all mortality\n",
      "379    90+ 2020-05-08   989  Weekly all mortality\n",
      "\n",
      "[380 rows x 4 columns]\n",
      "to E 63 83 Females []\n",
      "       Age       Date value               measure\n",
      "0       <1 2020-01-03    18  Weekly all mortality\n",
      "1      1-4 2020-01-03     3  Weekly all mortality\n",
      "2      5-9 2020-01-03     2  Weekly all mortality\n",
      "3    10-14 2020-01-03     3  Weekly all mortality\n",
      "4    15-19 2020-01-03     1  Weekly all mortality\n",
      "..     ...        ...   ...                   ...\n",
      "375  70-74 2020-05-08   490  Weekly all mortality\n",
      "376  75-79 2020-05-08   661  Weekly all mortality\n",
      "377  80-84 2020-05-08   987  Weekly all mortality\n",
      "378  85-89 2020-05-08  1352  Weekly all mortality\n",
      "379    90+ 2020-05-08  2014  Weekly all mortality\n",
      "\n",
      "[380 rows x 4 columns]\n",
      "to F ['Persons', 'Males', 'Females']\n",
      "to F\n"
     ]
    },
    {
     "data": {
      "text/html": [
       "<div>\n",
       "<style scoped>\n",
       "    .dataframe tbody tr th:only-of-type {\n",
       "        vertical-align: middle;\n",
       "    }\n",
       "\n",
       "    .dataframe tbody tr th {\n",
       "        vertical-align: top;\n",
       "    }\n",
       "\n",
       "    .dataframe thead th {\n",
       "        text-align: right;\n",
       "    }\n",
       "</style>\n",
       "<table border=\"1\" class=\"dataframe\">\n",
       "  <thead>\n",
       "    <tr style=\"text-align: right;\">\n",
       "      <th></th>\n",
       "      <th>Age</th>\n",
       "      <th>Date</th>\n",
       "      <th>value</th>\n",
       "      <th>measure</th>\n",
       "      <th>Group</th>\n",
       "    </tr>\n",
       "  </thead>\n",
       "  <tbody>\n",
       "    <tr>\n",
       "      <th>0</th>\n",
       "      <td>&lt;1</td>\n",
       "      <td>2020-01-03</td>\n",
       "      <td>30</td>\n",
       "      <td>Weekly all mortality</td>\n",
       "      <td>Males</td>\n",
       "    </tr>\n",
       "    <tr>\n",
       "      <th>1</th>\n",
       "      <td>1-4</td>\n",
       "      <td>2020-01-03</td>\n",
       "      <td>5</td>\n",
       "      <td>Weekly all mortality</td>\n",
       "      <td>Males</td>\n",
       "    </tr>\n",
       "    <tr>\n",
       "      <th>2</th>\n",
       "      <td>5-9</td>\n",
       "      <td>2020-01-03</td>\n",
       "      <td>2</td>\n",
       "      <td>Weekly all mortality</td>\n",
       "      <td>Males</td>\n",
       "    </tr>\n",
       "    <tr>\n",
       "      <th>3</th>\n",
       "      <td>10-14</td>\n",
       "      <td>2020-01-03</td>\n",
       "      <td>1</td>\n",
       "      <td>Weekly all mortality</td>\n",
       "      <td>Males</td>\n",
       "    </tr>\n",
       "    <tr>\n",
       "      <th>4</th>\n",
       "      <td>15-19</td>\n",
       "      <td>2020-01-03</td>\n",
       "      <td>5</td>\n",
       "      <td>Weekly all mortality</td>\n",
       "      <td>Males</td>\n",
       "    </tr>\n",
       "    <tr>\n",
       "      <th>...</th>\n",
       "      <td>...</td>\n",
       "      <td>...</td>\n",
       "      <td>...</td>\n",
       "      <td>...</td>\n",
       "      <td>...</td>\n",
       "    </tr>\n",
       "    <tr>\n",
       "      <th>375</th>\n",
       "      <td>70-74</td>\n",
       "      <td>2020-05-08</td>\n",
       "      <td>682</td>\n",
       "      <td>Weekly all mortality</td>\n",
       "      <td>Males</td>\n",
       "    </tr>\n",
       "    <tr>\n",
       "      <th>376</th>\n",
       "      <td>75-79</td>\n",
       "      <td>2020-05-08</td>\n",
       "      <td>867</td>\n",
       "      <td>Weekly all mortality</td>\n",
       "      <td>Males</td>\n",
       "    </tr>\n",
       "    <tr>\n",
       "      <th>377</th>\n",
       "      <td>80-84</td>\n",
       "      <td>2020-05-08</td>\n",
       "      <td>1112</td>\n",
       "      <td>Weekly all mortality</td>\n",
       "      <td>Males</td>\n",
       "    </tr>\n",
       "    <tr>\n",
       "      <th>378</th>\n",
       "      <td>85-89</td>\n",
       "      <td>2020-05-08</td>\n",
       "      <td>1089</td>\n",
       "      <td>Weekly all mortality</td>\n",
       "      <td>Males</td>\n",
       "    </tr>\n",
       "    <tr>\n",
       "      <th>379</th>\n",
       "      <td>90+</td>\n",
       "      <td>2020-05-08</td>\n",
       "      <td>989</td>\n",
       "      <td>Weekly all mortality</td>\n",
       "      <td>Males</td>\n",
       "    </tr>\n",
       "  </tbody>\n",
       "</table>\n",
       "<p>380 rows × 5 columns</p>\n",
       "</div>"
      ],
      "text/plain": [
       "       Age       Date value               measure  Group\n",
       "0       <1 2020-01-03    30  Weekly all mortality  Males\n",
       "1      1-4 2020-01-03     5  Weekly all mortality  Males\n",
       "2      5-9 2020-01-03     2  Weekly all mortality  Males\n",
       "3    10-14 2020-01-03     1  Weekly all mortality  Males\n",
       "4    15-19 2020-01-03     5  Weekly all mortality  Males\n",
       "..     ...        ...   ...                   ...    ...\n",
       "375  70-74 2020-05-08   682  Weekly all mortality  Males\n",
       "376  75-79 2020-05-08   867  Weekly all mortality  Males\n",
       "377  80-84 2020-05-08  1112  Weekly all mortality  Males\n",
       "378  85-89 2020-05-08  1089  Weekly all mortality  Males\n",
       "379    90+ 2020-05-08   989  Weekly all mortality  Males\n",
       "\n",
       "[380 rows x 5 columns]"
      ]
     },
     "execution_count": 16,
     "metadata": {},
     "output_type": "execute_result"
    }
   ],
   "source": [
    "print('To here 7..')\n",
    "ons_weekly_all_long = ons_weeklies(ons_weekly_all, 'Weekly all mortality')\n",
    "ons_weekly_all_long['Males']"
   ]
  },
  {
   "cell_type": "markdown",
   "metadata": {},
   "source": [
    "Add to database..."
   ]
  },
  {
   "cell_type": "code",
   "execution_count": 17,
   "metadata": {},
   "outputs": [
    {
     "name": "stdout",
     "output_type": "stream",
     "text": [
      "To here 8..\n",
      "To here 9..\n",
      "To here 10..\n",
      "To here 11..\n"
     ]
    }
   ],
   "source": [
    "print('To here 8..')\n",
    "_table = 'ons_deaths'\n",
    "\n",
    "ons_weekly_occ_long['Any'].to_sql(_table, DB.conn, index=False, if_exists='append')\n",
    "print('To here 9..')\n",
    "ons_weekly_reg_long['Any'].to_sql(_table, DB.conn, index=False, if_exists='append')\n",
    "print('To here 10..')\n",
    "ons_weekly_all_long['Any'].to_sql(_table, DB.conn, index=False, if_exists='append')\n",
    "print('To here 11..')"
   ]
  },
  {
   "cell_type": "markdown",
   "metadata": {},
   "source": [
    "### ONS Death Registrations, 2020\n",
    "\n",
    "https://www.ons.gov.uk/peoplepopulationandcommunity/healthandsocialcare/causesofdeath/datasets/deathregistrationsandoccurrencesbylocalauthorityandhealthboard"
   ]
  },
  {
   "cell_type": "code",
   "execution_count": 18,
   "metadata": {},
   "outputs": [
    {
     "name": "stdout",
     "output_type": "stream",
     "text": [
      "To here 12..\n"
     ]
    },
    {
     "data": {
      "text/plain": [
       "'/file?uri=%2fpeoplepopulationandcommunity%2fhealthandsocialcare%2fcausesofdeath%2fdatasets%2fdeathregistrationsandoccurrencesbylocalauthorityandhealthboard%2f2020/lahbtablesweek19.xlsx'"
      ]
     },
     "execution_count": 18,
     "metadata": {},
     "output_type": "execute_result"
    }
   ],
   "source": [
    "print('To here 12..')\n",
    "base='https://www.ons.gov.uk/peoplepopulationandcommunity/healthandsocialcare/causesofdeath/datasets/deathregistrationsandoccurrencesbylocalauthorityandhealthboard'\n",
    "page = requests.get(base, allow_redirects=True)\n",
    "soup = BeautifulSoup(page.text, 'lxml')\n",
    "links = {}\n",
    "lahtable_link = ''\n",
    "for link in soup.find_all('a'):\n",
    "    if 'Download Death registrations and occurrences' in link.text:\n",
    "        lahtable_link = link.get('href')\n",
    "        break\n",
    "lahtable_file = lahtable_link#.split('/')[-1]\n",
    "lahtable_file"
   ]
  },
  {
   "cell_type": "code",
   "execution_count": 19,
   "metadata": {},
   "outputs": [
    {
     "name": "stdout",
     "output_type": "stream",
     "text": [
      "To here 13..\n"
     ]
    },
    {
     "data": {
      "text/plain": [
       "'https://www.ons.gov.uk/file?uri=%2fpeoplepopulationandcommunity%2fhealthandsocialcare%2fcausesofdeath%2fdatasets%2fdeathregistrationsandoccurrencesbylocalauthorityandhealthboard%2f2020/lahbtablesweek19.xlsx'"
      ]
     },
     "execution_count": 19,
     "metadata": {},
     "output_type": "execute_result"
    }
   ],
   "source": [
    "print('To here 13..')\n",
    "ons_death_reg_url = f'https://www.ons.gov.uk{lahtable_file}'\n",
    "ons_death_reg_url"
   ]
  },
  {
   "cell_type": "code",
   "execution_count": 20,
   "metadata": {},
   "outputs": [
    {
     "name": "stdout",
     "output_type": "stream",
     "text": [
      "To here 14..\n"
     ]
    },
    {
     "data": {
      "text/plain": [
       "odict_keys(['Contents', 'Information', 'Terms and conditions', 'Registrations - All data', 'Registrations - Pivot table', 'Occurrences - All data', 'Occurrences - Pivot table'])"
      ]
     },
     "execution_count": 20,
     "metadata": {},
     "output_type": "execute_result"
    }
   ],
   "source": [
    "print('To here 14..')\n",
    "r = requests.get(ons_death_reg_url, allow_redirects=True)\n",
    "\n",
    "fn = ons_death_reg_url.split('/')[-1]\n",
    " \n",
    "with open(fn, 'wb') as f:\n",
    "    f.write(r.content)\n",
    "\n",
    "ons_reg_sheets = pd.read_excel(fn, sheet_name=None)\n",
    "\n",
    "# What sheets are available in the spreadsheet\n",
    "ons_reg_sheet_names = ons_reg_sheets.keys()\n",
    "ons_reg_sheet_names"
   ]
  },
  {
   "cell_type": "code",
   "execution_count": 21,
   "metadata": {},
   "outputs": [
    {
     "name": "stdout",
     "output_type": "stream",
     "text": [
      "To here 15..\n"
     ]
    },
    {
     "data": {
      "text/plain": [
       "'Deaths (numbers) by local authority and cause of death, registered up to the 8th May 2020, England and Wales'"
      ]
     },
     "execution_count": 21,
     "metadata": {},
     "output_type": "execute_result"
    }
   ],
   "source": [
    "print('To here 15..')\n",
    "ons_death_reg = ons_reg_sheets['Registrations - All data']\n",
    "ons_death_reg_metadata = ons_death_reg.iloc[0, 0]\n",
    "ons_death_reg_metadata"
   ]
  },
  {
   "cell_type": "code",
   "execution_count": 22,
   "metadata": {},
   "outputs": [
    {
     "name": "stdout",
     "output_type": "stream",
     "text": [
      "To here 16..\n"
     ]
    },
    {
     "data": {
      "text/html": [
       "<div>\n",
       "<style scoped>\n",
       "    .dataframe tbody tr th:only-of-type {\n",
       "        vertical-align: middle;\n",
       "    }\n",
       "\n",
       "    .dataframe tbody tr th {\n",
       "        vertical-align: top;\n",
       "    }\n",
       "\n",
       "    .dataframe thead th {\n",
       "        text-align: right;\n",
       "    }\n",
       "</style>\n",
       "<table border=\"1\" class=\"dataframe\">\n",
       "  <thead>\n",
       "    <tr style=\"text-align: right;\">\n",
       "      <th></th>\n",
       "      <th>Area code</th>\n",
       "      <th>Geography type</th>\n",
       "      <th>Area name</th>\n",
       "      <th>Cause of death</th>\n",
       "      <th>Week number</th>\n",
       "      <th>Place of death</th>\n",
       "      <th>Number of deaths</th>\n",
       "      <th>Registered up to</th>\n",
       "    </tr>\n",
       "  </thead>\n",
       "  <tbody>\n",
       "    <tr>\n",
       "      <th>0</th>\n",
       "      <td>E06000001</td>\n",
       "      <td>Local Authority</td>\n",
       "      <td>Hartlepool</td>\n",
       "      <td>All causes</td>\n",
       "      <td>1</td>\n",
       "      <td>Care home</td>\n",
       "      <td>8</td>\n",
       "      <td>2020-05-08</td>\n",
       "    </tr>\n",
       "    <tr>\n",
       "      <th>1</th>\n",
       "      <td>E06000001</td>\n",
       "      <td>Local Authority</td>\n",
       "      <td>Hartlepool</td>\n",
       "      <td>All causes</td>\n",
       "      <td>1</td>\n",
       "      <td>Elsewhere</td>\n",
       "      <td>0</td>\n",
       "      <td>2020-05-08</td>\n",
       "    </tr>\n",
       "    <tr>\n",
       "      <th>2</th>\n",
       "      <td>E06000001</td>\n",
       "      <td>Local Authority</td>\n",
       "      <td>Hartlepool</td>\n",
       "      <td>All causes</td>\n",
       "      <td>1</td>\n",
       "      <td>Home</td>\n",
       "      <td>2</td>\n",
       "      <td>2020-05-08</td>\n",
       "    </tr>\n",
       "    <tr>\n",
       "      <th>3</th>\n",
       "      <td>E06000001</td>\n",
       "      <td>Local Authority</td>\n",
       "      <td>Hartlepool</td>\n",
       "      <td>All causes</td>\n",
       "      <td>1</td>\n",
       "      <td>Hospice</td>\n",
       "      <td>0</td>\n",
       "      <td>2020-05-08</td>\n",
       "    </tr>\n",
       "    <tr>\n",
       "      <th>4</th>\n",
       "      <td>E06000001</td>\n",
       "      <td>Local Authority</td>\n",
       "      <td>Hartlepool</td>\n",
       "      <td>All causes</td>\n",
       "      <td>1</td>\n",
       "      <td>Hospital</td>\n",
       "      <td>18</td>\n",
       "      <td>2020-05-08</td>\n",
       "    </tr>\n",
       "    <tr>\n",
       "      <th>...</th>\n",
       "      <td>...</td>\n",
       "      <td>...</td>\n",
       "      <td>...</td>\n",
       "      <td>...</td>\n",
       "      <td>...</td>\n",
       "      <td>...</td>\n",
       "      <td>...</td>\n",
       "      <td>...</td>\n",
       "    </tr>\n",
       "    <tr>\n",
       "      <th>77222</th>\n",
       "      <td>W11000031</td>\n",
       "      <td>Health Board</td>\n",
       "      <td>Swansea Bay University Health Board</td>\n",
       "      <td>COVID 19</td>\n",
       "      <td>19</td>\n",
       "      <td>Elsewhere</td>\n",
       "      <td>0</td>\n",
       "      <td>2020-05-08</td>\n",
       "    </tr>\n",
       "    <tr>\n",
       "      <th>77223</th>\n",
       "      <td>W11000031</td>\n",
       "      <td>Health Board</td>\n",
       "      <td>Swansea Bay University Health Board</td>\n",
       "      <td>COVID 19</td>\n",
       "      <td>19</td>\n",
       "      <td>Home</td>\n",
       "      <td>0</td>\n",
       "      <td>2020-05-08</td>\n",
       "    </tr>\n",
       "    <tr>\n",
       "      <th>77224</th>\n",
       "      <td>W11000031</td>\n",
       "      <td>Health Board</td>\n",
       "      <td>Swansea Bay University Health Board</td>\n",
       "      <td>COVID 19</td>\n",
       "      <td>19</td>\n",
       "      <td>Hospice</td>\n",
       "      <td>0</td>\n",
       "      <td>2020-05-08</td>\n",
       "    </tr>\n",
       "    <tr>\n",
       "      <th>77225</th>\n",
       "      <td>W11000031</td>\n",
       "      <td>Health Board</td>\n",
       "      <td>Swansea Bay University Health Board</td>\n",
       "      <td>COVID 19</td>\n",
       "      <td>19</td>\n",
       "      <td>Hospital</td>\n",
       "      <td>17</td>\n",
       "      <td>2020-05-08</td>\n",
       "    </tr>\n",
       "    <tr>\n",
       "      <th>77226</th>\n",
       "      <td>W11000031</td>\n",
       "      <td>Health Board</td>\n",
       "      <td>Swansea Bay University Health Board</td>\n",
       "      <td>COVID 19</td>\n",
       "      <td>19</td>\n",
       "      <td>Other communal establishment</td>\n",
       "      <td>1</td>\n",
       "      <td>2020-05-08</td>\n",
       "    </tr>\n",
       "  </tbody>\n",
       "</table>\n",
       "<p>77227 rows × 8 columns</p>\n",
       "</div>"
      ],
      "text/plain": [
       "       Area code   Geography type                           Area name   \\\n",
       "0      E06000001  Local Authority                           Hartlepool   \n",
       "1      E06000001  Local Authority                           Hartlepool   \n",
       "2      E06000001  Local Authority                           Hartlepool   \n",
       "3      E06000001  Local Authority                           Hartlepool   \n",
       "4      E06000001  Local Authority                           Hartlepool   \n",
       "...          ...              ...                                  ...   \n",
       "77222  W11000031     Health Board  Swansea Bay University Health Board   \n",
       "77223  W11000031     Health Board  Swansea Bay University Health Board   \n",
       "77224  W11000031     Health Board  Swansea Bay University Health Board   \n",
       "77225  W11000031     Health Board  Swansea Bay University Health Board   \n",
       "77226  W11000031     Health Board  Swansea Bay University Health Board   \n",
       "\n",
       "      Cause of death Week number                Place of death  \\\n",
       "0         All causes           1                     Care home   \n",
       "1         All causes           1                     Elsewhere   \n",
       "2         All causes           1                          Home   \n",
       "3         All causes           1                       Hospice   \n",
       "4         All causes           1                      Hospital   \n",
       "...              ...         ...                           ...   \n",
       "77222       COVID 19          19                     Elsewhere   \n",
       "77223       COVID 19          19                          Home   \n",
       "77224       COVID 19          19                       Hospice   \n",
       "77225       COVID 19          19                      Hospital   \n",
       "77226       COVID 19          19  Other communal establishment   \n",
       "\n",
       "      Number of deaths Registered up to  \n",
       "0                    8       2020-05-08  \n",
       "1                    0       2020-05-08  \n",
       "2                    2       2020-05-08  \n",
       "3                    0       2020-05-08  \n",
       "4                   18       2020-05-08  \n",
       "...                ...              ...  \n",
       "77222                0       2020-05-08  \n",
       "77223                0       2020-05-08  \n",
       "77224                0       2020-05-08  \n",
       "77225               17       2020-05-08  \n",
       "77226                1       2020-05-08  \n",
       "\n",
       "[77227 rows x 8 columns]"
      ]
     },
     "execution_count": 22,
     "metadata": {},
     "output_type": "execute_result"
    }
   ],
   "source": [
    "print('To here 16..')\n",
    "from parse import parse\n",
    "import dateparser\n",
    "\n",
    "upto = parse('Deaths (numbers) by local authority and cause of death, registered up to the {date}, England and Wales',\n",
    "             ons_death_reg_metadata)['date']\n",
    "upto = dateparser.parse(upto)\n",
    "\n",
    "rows, cols = np.where(ons_death_reg == 'Area code')\n",
    "colnames = ons_death_reg.iloc[rows[0]].tolist()\n",
    "    \n",
    "ons_death_reg = ons_death_reg.iloc[rows[0]+1:].reset_index(drop=True)\n",
    "ons_death_reg.columns = colnames\n",
    "\n",
    "\n",
    "ons_death_reg['Registered up to'] = upto\n",
    "ons_death_reg"
   ]
  },
  {
   "cell_type": "code",
   "execution_count": 23,
   "metadata": {},
   "outputs": [
    {
     "name": "stdout",
     "output_type": "stream",
     "text": [
      "To here 17..\n"
     ]
    },
    {
     "data": {
      "text/html": [
       "<div>\n",
       "<style scoped>\n",
       "    .dataframe tbody tr th:only-of-type {\n",
       "        vertical-align: middle;\n",
       "    }\n",
       "\n",
       "    .dataframe tbody tr th {\n",
       "        vertical-align: top;\n",
       "    }\n",
       "\n",
       "    .dataframe thead th {\n",
       "        text-align: right;\n",
       "    }\n",
       "</style>\n",
       "<table border=\"1\" class=\"dataframe\">\n",
       "  <thead>\n",
       "    <tr style=\"text-align: right;\">\n",
       "      <th></th>\n",
       "      <th>Area code</th>\n",
       "      <th>Geography type</th>\n",
       "      <th>Area name</th>\n",
       "      <th>Cause of death</th>\n",
       "      <th>Week number</th>\n",
       "      <th>Place of death</th>\n",
       "      <th>Number of deaths</th>\n",
       "      <th>Occurred up to</th>\n",
       "      <th>Registered up to</th>\n",
       "    </tr>\n",
       "  </thead>\n",
       "  <tbody>\n",
       "    <tr>\n",
       "      <th>0</th>\n",
       "      <td>E06000001</td>\n",
       "      <td>Local Authority</td>\n",
       "      <td>Hartlepool</td>\n",
       "      <td>All causes</td>\n",
       "      <td>1</td>\n",
       "      <td>Care home</td>\n",
       "      <td>3</td>\n",
       "      <td>2020-05-08</td>\n",
       "      <td>2020-05-16</td>\n",
       "    </tr>\n",
       "    <tr>\n",
       "      <th>1</th>\n",
       "      <td>E06000001</td>\n",
       "      <td>Local Authority</td>\n",
       "      <td>Hartlepool</td>\n",
       "      <td>All causes</td>\n",
       "      <td>1</td>\n",
       "      <td>Elsewhere</td>\n",
       "      <td>0</td>\n",
       "      <td>2020-05-08</td>\n",
       "      <td>2020-05-16</td>\n",
       "    </tr>\n",
       "    <tr>\n",
       "      <th>2</th>\n",
       "      <td>E06000001</td>\n",
       "      <td>Local Authority</td>\n",
       "      <td>Hartlepool</td>\n",
       "      <td>All causes</td>\n",
       "      <td>1</td>\n",
       "      <td>Home</td>\n",
       "      <td>7</td>\n",
       "      <td>2020-05-08</td>\n",
       "      <td>2020-05-16</td>\n",
       "    </tr>\n",
       "    <tr>\n",
       "      <th>3</th>\n",
       "      <td>E06000001</td>\n",
       "      <td>Local Authority</td>\n",
       "      <td>Hartlepool</td>\n",
       "      <td>All causes</td>\n",
       "      <td>1</td>\n",
       "      <td>Hospice</td>\n",
       "      <td>1</td>\n",
       "      <td>2020-05-08</td>\n",
       "      <td>2020-05-16</td>\n",
       "    </tr>\n",
       "    <tr>\n",
       "      <th>4</th>\n",
       "      <td>E06000001</td>\n",
       "      <td>Local Authority</td>\n",
       "      <td>Hartlepool</td>\n",
       "      <td>All causes</td>\n",
       "      <td>1</td>\n",
       "      <td>Hospital</td>\n",
       "      <td>14</td>\n",
       "      <td>2020-05-08</td>\n",
       "      <td>2020-05-16</td>\n",
       "    </tr>\n",
       "    <tr>\n",
       "      <th>...</th>\n",
       "      <td>...</td>\n",
       "      <td>...</td>\n",
       "      <td>...</td>\n",
       "      <td>...</td>\n",
       "      <td>...</td>\n",
       "      <td>...</td>\n",
       "      <td>...</td>\n",
       "      <td>...</td>\n",
       "      <td>...</td>\n",
       "    </tr>\n",
       "    <tr>\n",
       "      <th>78883</th>\n",
       "      <td>W11000031</td>\n",
       "      <td>Health Board</td>\n",
       "      <td>Swansea Bay University Health Board</td>\n",
       "      <td>COVID 19</td>\n",
       "      <td>19</td>\n",
       "      <td>Elsewhere</td>\n",
       "      <td>0</td>\n",
       "      <td>2020-05-08</td>\n",
       "      <td>2020-05-16</td>\n",
       "    </tr>\n",
       "    <tr>\n",
       "      <th>78884</th>\n",
       "      <td>W11000031</td>\n",
       "      <td>Health Board</td>\n",
       "      <td>Swansea Bay University Health Board</td>\n",
       "      <td>COVID 19</td>\n",
       "      <td>19</td>\n",
       "      <td>Home</td>\n",
       "      <td>0</td>\n",
       "      <td>2020-05-08</td>\n",
       "      <td>2020-05-16</td>\n",
       "    </tr>\n",
       "    <tr>\n",
       "      <th>78885</th>\n",
       "      <td>W11000031</td>\n",
       "      <td>Health Board</td>\n",
       "      <td>Swansea Bay University Health Board</td>\n",
       "      <td>COVID 19</td>\n",
       "      <td>19</td>\n",
       "      <td>Hospice</td>\n",
       "      <td>0</td>\n",
       "      <td>2020-05-08</td>\n",
       "      <td>2020-05-16</td>\n",
       "    </tr>\n",
       "    <tr>\n",
       "      <th>78886</th>\n",
       "      <td>W11000031</td>\n",
       "      <td>Health Board</td>\n",
       "      <td>Swansea Bay University Health Board</td>\n",
       "      <td>COVID 19</td>\n",
       "      <td>19</td>\n",
       "      <td>Hospital</td>\n",
       "      <td>16</td>\n",
       "      <td>2020-05-08</td>\n",
       "      <td>2020-05-16</td>\n",
       "    </tr>\n",
       "    <tr>\n",
       "      <th>78887</th>\n",
       "      <td>W11000031</td>\n",
       "      <td>Health Board</td>\n",
       "      <td>Swansea Bay University Health Board</td>\n",
       "      <td>COVID 19</td>\n",
       "      <td>19</td>\n",
       "      <td>Other communal establishment</td>\n",
       "      <td>0</td>\n",
       "      <td>2020-05-08</td>\n",
       "      <td>2020-05-16</td>\n",
       "    </tr>\n",
       "  </tbody>\n",
       "</table>\n",
       "<p>78888 rows × 9 columns</p>\n",
       "</div>"
      ],
      "text/plain": [
       "       Area code   Geography type                            Area name  \\\n",
       "0      E06000001  Local Authority                           Hartlepool   \n",
       "1      E06000001  Local Authority                           Hartlepool   \n",
       "2      E06000001  Local Authority                           Hartlepool   \n",
       "3      E06000001  Local Authority                           Hartlepool   \n",
       "4      E06000001  Local Authority                           Hartlepool   \n",
       "...          ...              ...                                  ...   \n",
       "78883  W11000031     Health Board  Swansea Bay University Health Board   \n",
       "78884  W11000031     Health Board  Swansea Bay University Health Board   \n",
       "78885  W11000031     Health Board  Swansea Bay University Health Board   \n",
       "78886  W11000031     Health Board  Swansea Bay University Health Board   \n",
       "78887  W11000031     Health Board  Swansea Bay University Health Board   \n",
       "\n",
       "      Cause of death Week number                Place of death  \\\n",
       "0         All causes           1                     Care home   \n",
       "1         All causes           1                     Elsewhere   \n",
       "2         All causes           1                          Home   \n",
       "3         All causes           1                       Hospice   \n",
       "4         All causes           1                      Hospital   \n",
       "...              ...         ...                           ...   \n",
       "78883       COVID 19          19                     Elsewhere   \n",
       "78884       COVID 19          19                          Home   \n",
       "78885       COVID 19          19                       Hospice   \n",
       "78886       COVID 19          19                      Hospital   \n",
       "78887       COVID 19          19  Other communal establishment   \n",
       "\n",
       "      Number of deaths Occurred up to Registered up to  \n",
       "0                    3     2020-05-08       2020-05-16  \n",
       "1                    0     2020-05-08       2020-05-16  \n",
       "2                    7     2020-05-08       2020-05-16  \n",
       "3                    1     2020-05-08       2020-05-16  \n",
       "4                   14     2020-05-08       2020-05-16  \n",
       "...                ...            ...              ...  \n",
       "78883                0     2020-05-08       2020-05-16  \n",
       "78884                0     2020-05-08       2020-05-16  \n",
       "78885                0     2020-05-08       2020-05-16  \n",
       "78886               16     2020-05-08       2020-05-16  \n",
       "78887                0     2020-05-08       2020-05-16  \n",
       "\n",
       "[78888 rows x 9 columns]"
      ]
     },
     "execution_count": 23,
     "metadata": {},
     "output_type": "execute_result"
    }
   ],
   "source": [
    "print('To here 17..')\n",
    "ons_death_occ = ons_reg_sheets['Occurrences - All data']\n",
    "ons_death_occ_metadata = ons_death_occ.iloc[0, 0]\n",
    "ons_death_occ_metadata\n",
    "\n",
    "uptos = parse('Deaths (numbers) by local authority and cause of death, for deaths that occurred up to {date_occ} but were registered up to {date_reg}, England and Wales',\n",
    "             ons_death_occ_metadata)\n",
    "\n",
    "upto_occ = uptos['date_occ']\n",
    "if '2020' not in upto_occ: upto_occ = f'{upto_occ} 2020'\n",
    "    \n",
    "upto_reg = uptos['date_reg']\n",
    "if '2020' not in upto_occ: upto_occ = f'{upto_reg} 2020'\n",
    "\n",
    "upto_occ = dateparser.parse(upto_occ)\n",
    "upto_reg = dateparser.parse(upto_reg)\n",
    "\n",
    "rows, cols = np.where(ons_death_occ == 'Area code')\n",
    "colnames = ons_death_occ.iloc[rows[0]].tolist()\n",
    "    \n",
    "ons_death_occ = ons_death_occ.iloc[rows[0]+1:].reset_index(drop=True)\n",
    "ons_death_occ.columns = colnames\n",
    "\n",
    "\n",
    "ons_death_occ['Occurred up to'] = upto_occ\n",
    "ons_death_occ['Registered up to'] = upto_reg\n",
    "ons_death_occ"
   ]
  },
  {
   "cell_type": "code",
   "execution_count": 24,
   "metadata": {},
   "outputs": [
    {
     "name": "stdout",
     "output_type": "stream",
     "text": [
      "To here 18..\n"
     ]
    },
    {
     "name": "stderr",
     "output_type": "stream",
     "text": [
      "/usr/local/lib/python3.7/site-packages/pandas/core/generic.py:2712: UserWarning: The spaces in these column names will not be changed. In pandas versions < 0.14, spaces were converted to underscores.\n",
      "  method=method,\n"
     ]
    },
    {
     "name": "stdout",
     "output_type": "stream",
     "text": [
      "To here 19..\n",
      "To here 20..\n"
     ]
    }
   ],
   "source": [
    "print('To here 18..')\n",
    "_table = 'ons_deaths_reg'\n",
    "ons_death_reg.to_sql(_table, DB.conn, index=False, if_exists='replace')\n",
    "print('To here 19..')\n",
    "_table = 'ons_deaths_reg_occ'\n",
    "ons_death_occ.to_sql(_table, DB.conn, index=False, if_exists='replace')\n",
    "print('To here 20..')"
   ]
  },
  {
   "cell_type": "markdown",
   "metadata": {},
   "source": [
    "## NHS stuff\n",
    "\n",
    "Get the links..."
   ]
  },
  {
   "cell_type": "markdown",
   "metadata": {},
   "source": [
    "Daily reports are published as an Excel spreadhseet linked from the following page:"
   ]
  },
  {
   "cell_type": "code",
   "execution_count": 25,
   "metadata": {},
   "outputs": [],
   "source": [
    "# Reporting page\n",
    "url = 'https://www.england.nhs.uk/statistics/statistical-work-areas/covid-19-daily-deaths/'"
   ]
  },
  {
   "cell_type": "code",
   "execution_count": 26,
   "metadata": {},
   "outputs": [],
   "source": [
    "page = requests.get(url)\n",
    "soup = BeautifulSoup(page.text)"
   ]
  },
  {
   "cell_type": "markdown",
   "metadata": {},
   "source": [
    "Get the relevant links to the daily spreadseets:"
   ]
  },
  {
   "cell_type": "code",
   "execution_count": 35,
   "metadata": {},
   "outputs": [
    {
     "data": {
      "text/plain": [
       "[]"
      ]
     },
     "execution_count": 35,
     "metadata": {},
     "output_type": "execute_result"
    }
   ],
   "source": [
    "already_processed"
   ]
  },
  {
   "cell_type": "code",
   "execution_count": 46,
   "metadata": {},
   "outputs": [
    {
     "data": {
      "text/plain": [
       "{'COVID 19 daily announced deaths 23 May 2020': 'https://www.england.nhs.uk/statistics/wp-content/uploads/sites/2/2020/05/COVID-19-daily-announced-deaths-23-May-2020.xlsx',\n",
       " 'COVID 19 daily announced deaths 22 May 2020': 'https://www.england.nhs.uk/statistics/wp-content/uploads/sites/2/2020/05/COVID-19-daily-announced-deaths-22-May-2020.xlsx',\n",
       " 'COVID 19 daily announced deaths 21 May 2020': 'https://www.england.nhs.uk/statistics/wp-content/uploads/sites/2/2020/05/COVID-19-daily-announced-deaths-21-May-2020.xlsx',\n",
       " 'COVID 19 daily announced deaths 20 May 2020': 'https://www.england.nhs.uk/statistics/wp-content/uploads/sites/2/2020/05/COVID-19-daily-announced-deaths-20-May-2020-1.xlsx',\n",
       " 'COVID 19 daily announced deaths 19 May 2020': 'https://www.england.nhs.uk/statistics/wp-content/uploads/sites/2/2020/05/COVID-19-daily-announced-deaths-19-May-2020.xlsx',\n",
       " 'COVID 19 daily announced deaths 18 May 2020': 'https://www.england.nhs.uk/statistics/wp-content/uploads/sites/2/2020/05/COVID-19-daily-announced-deaths-18-May-2020.xlsx',\n",
       " 'COVID 19 daily announced deaths 17 May 2020': 'https://www.england.nhs.uk/statistics/wp-content/uploads/sites/2/2020/05/COVID-19-daily-announced-deaths-17-May-2020.xlsx',\n",
       " 'COVID 19 daily announced deaths 16 May 2020': 'https://www.england.nhs.uk/statistics/wp-content/uploads/sites/2/2020/05/COVID-19-daily-announced-deaths-16-May-2020-1.xlsx',\n",
       " 'COVID 19 daily announced deaths 15 May 2020': 'https://www.england.nhs.uk/statistics/wp-content/uploads/sites/2/2020/05/COVID-19-daily-announced-deaths-15-May-2020.xlsx',\n",
       " 'COVID 19 daily announced deaths 14 May 2020': 'https://www.england.nhs.uk/statistics/wp-content/uploads/sites/2/2020/05/COVID-19-daily-announced-deaths-14-May-2020.xlsx',\n",
       " 'COVID 19 daily announced deaths 13 May 2020': 'https://www.england.nhs.uk/statistics/wp-content/uploads/sites/2/2020/05/COVID-19-daily-announced-deaths-13-May-2020.xlsx',\n",
       " 'COVID 19 daily announced deaths 12 May 2020': 'https://www.england.nhs.uk/statistics/wp-content/uploads/sites/2/2020/05/COVID-19-daily-announced-deaths-12-May-2020.xlsx',\n",
       " 'COVID 19 daily announced deaths 11 May 2020': 'https://www.england.nhs.uk/statistics/wp-content/uploads/sites/2/2020/05/COVID-19-daily-announced-deaths-11-May-2020.xlsx',\n",
       " 'COVID 19 daily announced deaths 10 May 2020': 'https://www.england.nhs.uk/statistics/wp-content/uploads/sites/2/2020/05/COVID-19-daily-announced-deaths-10-May-2020.xlsx',\n",
       " 'COVID 19 daily announced deaths 9 May 2020': 'https://www.england.nhs.uk/statistics/wp-content/uploads/sites/2/2020/05/COVID-19-daily-announced-deaths-9-May-2020.xlsx',\n",
       " 'COVID 19 daily announced deaths 8 May 2020': 'https://www.england.nhs.uk/statistics/wp-content/uploads/sites/2/2020/05/COVID-19-daily-announced-deaths-8-May-2020.xlsx',\n",
       " 'COVID 19 daily announced deaths 7 May 2020': 'https://www.england.nhs.uk/statistics/wp-content/uploads/sites/2/2020/05/COVID-19-daily-announced-deaths-7-May-2020.xlsx',\n",
       " 'COVID 19 daily announced deaths 6 May 2020': 'https://www.england.nhs.uk/statistics/wp-content/uploads/sites/2/2020/05/COVID-19-daily-announced-deaths-6-May-2020.xlsx',\n",
       " 'COVID 19 daily announced deaths 5 May 2020': 'https://www.england.nhs.uk/statistics/wp-content/uploads/sites/2/2020/05/COVID-19-daily-announced-deaths-5-May-2020.xlsx',\n",
       " 'COVID 19 daily announced deaths 4 May 2020': 'https://www.england.nhs.uk/statistics/wp-content/uploads/sites/2/2020/05/COVID-19-daily-announced-deaths-4-May-2020.xlsx',\n",
       " 'COVID 19 daily announced deaths 3 May 2020': 'https://www.england.nhs.uk/statistics/wp-content/uploads/sites/2/2020/05/COVID-19-daily-announced-deaths-3-May-2020.xlsx',\n",
       " 'COVID 19 daily announced deaths 2 May 2020': 'https://www.england.nhs.uk/statistics/wp-content/uploads/sites/2/2020/05/COVID-19-daily-announced-deaths-2-May-2020.xlsx',\n",
       " 'COVID 19 daily announced deaths 1 May 2020': 'https://www.england.nhs.uk/statistics/wp-content/uploads/sites/2/2020/05/COVID-19-daily-announced-deaths-1-May-2020.xlsx',\n",
       " 'COVID 19 daily announced deaths 30 April 2020': 'https://www.england.nhs.uk/statistics/wp-content/uploads/sites/2/2020/04/COVID-19-daily-announced-deaths-30-April-2020.xlsx',\n",
       " 'COVID 19 daily announced deaths 29 April 2020': 'https://www.england.nhs.uk/statistics/wp-content/uploads/sites/2/2020/04/COVID-19-daily-announced-deaths-29-April-2020.xlsx',\n",
       " 'COVID 19 daily announced deaths 28 April 2020': 'https://www.england.nhs.uk/statistics/wp-content/uploads/sites/2/2020/04/COVID-19-daily-announced-deaths-28-April-2020.xlsx',\n",
       " 'COVID 19 daily announced deaths 27 April 2020': 'https://www.england.nhs.uk/statistics/wp-content/uploads/sites/2/2020/04/COVID-19-daily-announced-deaths-27-April-2020.xlsx',\n",
       " 'COVID 19 daily announced deaths 26 April 2020': 'https://www.england.nhs.uk/statistics/wp-content/uploads/sites/2/2020/04/COVID-19-daily-announced-deaths-26-April-2020.xlsx',\n",
       " 'COVID 19 daily announced deaths 25 April 2020': 'https://www.england.nhs.uk/statistics/wp-content/uploads/sites/2/2020/04/COVID-19-daily-announced-deaths-25-April-2020.xlsx',\n",
       " 'COVID 19 daily announced deaths 24 April 2020': 'https://www.england.nhs.uk/statistics/wp-content/uploads/sites/2/2020/04/COVID-19-daily-announced-deaths-24-April-2020.xlsx',\n",
       " 'COVID 19 daily announced deaths 23 April 2020': 'https://www.england.nhs.uk/statistics/wp-content/uploads/sites/2/2020/04/COVID-19-daily-announced-deaths-23-April-2020.xlsx',\n",
       " 'COVID 19 daily announced deaths 22 April 2020': 'https://www.england.nhs.uk/statistics/wp-content/uploads/sites/2/2020/04/COVID-19-daily-announced-deaths-22-April-2020.xlsx',\n",
       " 'COVID 19 daily announced deaths 21 April 2020': 'https://www.england.nhs.uk/statistics/wp-content/uploads/sites/2/2020/04/COVID-19-daily-announced-deaths-21-April-2020-1.xlsx',\n",
       " 'COVID 19 daily announced deaths 20 April 2020': 'https://www.england.nhs.uk/statistics/wp-content/uploads/sites/2/2020/04/COVID-19-daily-announced-deaths-20-April-2020.xlsx',\n",
       " 'COVID 19 daily announced deaths 19 April 2020': 'https://www.england.nhs.uk/statistics/wp-content/uploads/sites/2/2020/04/COVID-19-daily-announced-deaths-19-April-2020.xlsx',\n",
       " 'COVID 19 daily announced deaths 18 April 2020': 'https://www.england.nhs.uk/statistics/wp-content/uploads/sites/2/2020/04/COVID-19-daily-announced-deaths-18-April-2020.xlsx',\n",
       " 'COVID 19 daily announced deaths 17 April 2020': 'https://www.england.nhs.uk/statistics/wp-content/uploads/sites/2/2020/04/COVID-19-daily-announced-deaths-17-April-2020.xlsx',\n",
       " 'COVID 19 daily announced deaths 16 April 2020': 'https://www.england.nhs.uk/statistics/wp-content/uploads/sites/2/2020/04/COVID-19-daily-announced-deaths-16-April-2020.xlsx',\n",
       " 'COVID 19 daily announced deaths 15 April 2020': 'https://www.england.nhs.uk/statistics/wp-content/uploads/sites/2/2020/04/COVID-19-daily-announced-deaths-15-April-2020.xlsx',\n",
       " 'COVID 19 daily announced deaths 14 April 2020': 'https://www.england.nhs.uk/statistics/wp-content/uploads/sites/2/2020/04/COVID-19-daily-announced-deaths-14-April-2020.xlsx',\n",
       " 'COVID 19 daily announced deaths 13 April 2020': 'https://www.england.nhs.uk/statistics/wp-content/uploads/sites/2/2020/04/COVID-19-daily-announced-deaths-13-April-2020.xlsx',\n",
       " 'COVID 19 daily announced deaths 12 April 2020': 'https://www.england.nhs.uk/statistics/wp-content/uploads/sites/2/2020/04/COVID-19-daily-announced-deaths-12-April-2020.xlsx',\n",
       " 'COVID 19 daily announced deaths 11 April 2020': 'https://www.england.nhs.uk/statistics/wp-content/uploads/sites/2/2020/04/COVID-19-daily-announced-deaths-11-April-2020.xlsx',\n",
       " 'COVID 19 daily announced deaths 10 April 2020': 'https://www.england.nhs.uk/statistics/wp-content/uploads/sites/2/2020/04/COVID-19-daily-announced-deaths-10-April-2020.xlsx',\n",
       " 'COVID 19 daily announced deaths 9 April 2020': 'https://www.england.nhs.uk/statistics/wp-content/uploads/sites/2/2020/04/COVID-19-daily-announced-deaths-9-April-2020.xlsx',\n",
       " 'COVID 19 daily announced deaths 8 April 2020': 'https://www.england.nhs.uk/statistics/wp-content/uploads/sites/2/2020/04/COVID-19-daily-announced-deaths-8-April-2020.xlsx',\n",
       " 'COVID 19 daily announced deaths 7 April 2020': 'https://www.england.nhs.uk/statistics/wp-content/uploads/sites/2/2020/04/COVID-19-daily-announced-deaths-7-April-2020.xlsx',\n",
       " 'COVID 19 daily announced deaths 6 April 2020': 'https://www.england.nhs.uk/statistics/wp-content/uploads/sites/2/2020/04/COVID-19-daily-announced-deaths-6-April-2020.xlsx',\n",
       " 'COVID 19 daily announced deaths 5 April 2020': 'https://www.england.nhs.uk/statistics/wp-content/uploads/sites/2/2020/04/COVID-19-daily-announced-deaths-5-April-2020.xlsx',\n",
       " 'COVID 19 daily announced deaths 4 April 2020': 'https://www.england.nhs.uk/statistics/wp-content/uploads/sites/2/2020/04/COVID-19-daily-announced-deaths-4-April-2020.xlsx',\n",
       " 'COVID 19 daily announced deaths 3 April 2020': 'https://www.england.nhs.uk/statistics/wp-content/uploads/sites/2/2020/04/COVID-19-daily-announced-deaths-3-April-2020.xlsx',\n",
       " 'COVID 19 daily announced deaths 2 April 2020': 'https://www.england.nhs.uk/statistics/wp-content/uploads/sites/2/2020/04/COVID-19-daily-announced-deaths-2-April-2020-1.xlsx'}"
      ]
     },
     "execution_count": 46,
     "metadata": {},
     "output_type": "execute_result"
    }
   ],
   "source": [
    "links = {}\n",
    "for link in soup.find(\"article\", {\"class\": \"rich-text\"}).find_all('a'):\n",
    "    if link.text.startswith('COVID 19 daily announced deaths'):\n",
    "        if link.text not in links:\n",
    "            links[link.text] = link.get('href')\n",
    "    elif link.text.startswith('COVID 19 total announced deaths') and link.text.endswith('weekly tables'):\n",
    "        weekly_totals_link =  link.get('href')\n",
    "    elif link.text.startswith('COVID 19 total announced deaths'):\n",
    "        totals_link =  link.get('href')\n",
    "links = {l:links[l] for l in links if l not in already_processed}\n",
    "links"
   ]
  },
  {
   "cell_type": "code",
   "execution_count": 28,
   "metadata": {},
   "outputs": [],
   "source": [
    "import numpy as np\n",
    "import pandas as pd"
   ]
  },
  {
   "cell_type": "markdown",
   "metadata": {},
   "source": [
    "Start to sketch out how we can parse the data out of one of the spreadsheets. The following has been arrivied though a little bit of iteration an previewing of the data:"
   ]
  },
  {
   "cell_type": "code",
   "execution_count": 29,
   "metadata": {
    "tags": [
     "active-ipynb"
    ]
   },
   "outputs": [
    {
     "ename": "TypeError",
     "evalue": "list indices must be integers or slices, not str",
     "output_type": "error",
     "traceback": [
      "\u001b[0;31m---------------------------------------------------------------------------\u001b[0m",
      "\u001b[0;31mTypeError\u001b[0m                                 Traceback (most recent call last)",
      "\u001b[0;32m<ipython-input-29-73ccb9c6e144>\u001b[0m in \u001b[0;36m<module>\u001b[0;34m\u001b[0m\n\u001b[0;32m----> 1\u001b[0;31m sheets = pd.read_excel(links['COVID 19 daily announced deaths 9 April 2020'],\n\u001b[0m\u001b[1;32m      2\u001b[0m                            sheet_name=None)\n\u001b[1;32m      3\u001b[0m \u001b[0;34m\u001b[0m\u001b[0m\n\u001b[1;32m      4\u001b[0m \u001b[0;31m# What sheets are available in the spreadsheet\u001b[0m\u001b[0;34m\u001b[0m\u001b[0;34m\u001b[0m\u001b[0;34m\u001b[0m\u001b[0m\n\u001b[1;32m      5\u001b[0m \u001b[0msheet_names\u001b[0m \u001b[0;34m=\u001b[0m \u001b[0msheets\u001b[0m\u001b[0;34m.\u001b[0m\u001b[0mkeys\u001b[0m\u001b[0;34m(\u001b[0m\u001b[0;34m)\u001b[0m\u001b[0;34m\u001b[0m\u001b[0;34m\u001b[0m\u001b[0m\n",
      "\u001b[0;31mTypeError\u001b[0m: list indices must be integers or slices, not str"
     ]
    }
   ],
   "source": [
    "sheets = pd.read_excel(links['COVID 19 daily announced deaths 9 April 2020'],\n",
    "                           sheet_name=None)\n",
    "\n",
    "# What sheets are available in the spreadsheet\n",
    "sheet_names = sheets.keys()\n",
    "sheet_names"
   ]
  },
  {
   "cell_type": "markdown",
   "metadata": {},
   "source": [
    "The spreadsheet contains the following sheets:\n",
    "\n",
    "- `COVID19 daily deaths by region`\n",
    "- `COVID19 daily deaths by age`\n",
    "- `COVID19 daily deaths by trust`\n"
   ]
  },
  {
   "cell_type": "markdown",
   "metadata": {},
   "source": [
    "## Cleaning the Sheets\n",
    "\n",
    "Clean the sheets to get the actual data:"
   ]
  },
  {
   "cell_type": "code",
   "execution_count": null,
   "metadata": {
    "tags": [
     "active-ipynb"
    ]
   },
   "outputs": [],
   "source": [
    "sheet = 'COVID19 daily deaths by region'\n",
    "sheets[sheet].head(15)"
   ]
  },
  {
   "cell_type": "markdown",
   "metadata": {},
   "source": [
    "We don't necessarily know how much metadata there is at the start of the sheet so we need to emply heuristics. If *NHS England Region* is used consistently as a column heading, we can use that as a crib:"
   ]
  },
  {
   "cell_type": "code",
   "execution_count": null,
   "metadata": {
    "tags": [
     "active-ipynb"
    ]
   },
   "outputs": [],
   "source": [
    "rows, cols = np.where(sheets[sheet] == 'NHS England Region')\n",
    "rows, cols"
   ]
  },
  {
   "cell_type": "code",
   "execution_count": null,
   "metadata": {
    "tags": [
     "active-ipynb"
    ]
   },
   "outputs": [],
   "source": [
    "colnames = sheets[sheet].iloc[12]\n",
    "sheets[sheet] = sheets[sheet].iloc[15:]\n",
    "sheets[sheet].columns = colnames\n",
    "sheets[sheet].dropna(axis=1, how='all', inplace=True)\n",
    "sheets[sheet].dropna(axis=0, how='all', inplace=True)\n",
    "#sheets[sheet].dropna(axis=0, subset=[sheets[sheet].columns[0]], inplace=True)\n",
    "sheets[sheet].head()"
   ]
  },
  {
   "cell_type": "markdown",
   "metadata": {},
   "source": [
    "The ages data is structured differently, but we can perhaps use *Age Group* as a crib?"
   ]
  },
  {
   "cell_type": "code",
   "execution_count": null,
   "metadata": {
    "tags": [
     "active-ipynb"
    ]
   },
   "outputs": [],
   "source": [
    "sheet = 'COVID19 daily deaths by age'\n",
    "sheets[sheet].head(25)"
   ]
  },
  {
   "cell_type": "markdown",
   "metadata": {},
   "source": [
    "We can extract the published date to provide an additional metadata column:"
   ]
  },
  {
   "cell_type": "code",
   "execution_count": null,
   "metadata": {
    "tags": [
     "active-ipynb"
    ]
   },
   "outputs": [],
   "source": [
    "rows, cols = np.where(sheets[sheet] == 'Published:')\n",
    "published_date = sheets[sheet].iat[rows[0], cols[0]+1]\n",
    "published_date"
   ]
  },
  {
   "cell_type": "markdown",
   "metadata": {},
   "source": [
    "Try the crib:"
   ]
  },
  {
   "cell_type": "code",
   "execution_count": null,
   "metadata": {
    "tags": [
     "active-ipynb"
    ]
   },
   "outputs": [],
   "source": [
    "rows, cols = np.where(sheets[sheet] == 'Age group')\n",
    "rows, cols"
   ]
  },
  {
   "cell_type": "markdown",
   "metadata": {},
   "source": [
    "Does the same cleaning pattern work?"
   ]
  },
  {
   "cell_type": "code",
   "execution_count": null,
   "metadata": {
    "tags": [
     "active-ipynb"
    ]
   },
   "outputs": [],
   "source": [
    "colnames = sheets[sheet].iloc[13]\n",
    "sheets[sheet] = sheets[sheet].iloc[16:]\n",
    "sheets[sheet].columns = colnames\n",
    "sheets[sheet].dropna(axis=0, how='all', inplace=True)\n",
    "sheets[sheet].dropna(axis=1, how='all', inplace=True)\n",
    "#sheets[sheet].dropna(axis=0, subset=[sheets[sheet].columns[0]], inplace=True)\n",
    "sheets[sheet].head()"
   ]
  },
  {
   "cell_type": "markdown",
   "metadata": {},
   "source": [
    "Again, *NHS England Region* may be a handy crib in the following sheet:"
   ]
  },
  {
   "cell_type": "code",
   "execution_count": null,
   "metadata": {
    "tags": [
     "active-ipynb"
    ]
   },
   "outputs": [],
   "source": [
    "sheet = 'COVID19 daily deaths by trust'\n",
    "sheets[sheet].head(15)"
   ]
  },
  {
   "cell_type": "markdown",
   "metadata": {},
   "source": [
    "The same cleaning pattern we used before seems to work fine:"
   ]
  },
  {
   "cell_type": "code",
   "execution_count": null,
   "metadata": {
    "tags": [
     "active-ipynb"
    ]
   },
   "outputs": [],
   "source": [
    "colnames = sheets[sheet].iloc[12]\n",
    "sheets[sheet] = sheets[sheet].iloc[15:]\n",
    "sheets[sheet].columns = colnames\n",
    "sheets[sheet].dropna(axis=1, how='all', inplace=True)\n",
    "sheets[sheet].dropna(axis=0, how='all', inplace=True)\n",
    "#sheets[sheet].dropna(axis=0, subset=[sheets[sheet].columns[0]], inplace=True)\n",
    "sheets[sheet].head()"
   ]
  },
  {
   "cell_type": "markdown",
   "metadata": {},
   "source": [
    "Sheet names keep changing, so create a lookup of aliases that we can normalise into.\n",
    "\n",
    "Some of the `ignore` sheets should be treated as \"ignore for now\" - there is data we can scrape but it may not be in a form currently handled."
   ]
  },
  {
   "cell_type": "code",
   "execution_count": 30,
   "metadata": {},
   "outputs": [],
   "source": [
    "sheet_aliases = {\n",
    "    'COVID19 daily deaths by age': 'deaths by age',\n",
    "    'COVID19 daily deaths by region': 'deaths by region',\n",
    "    'COVID19 daily deaths by trust': 'deaths by trust',\n",
    "    # TO DO - could the totals as well as daily sheet move to this convention?\n",
    "    'Tab1 Deaths by region': 'deaths by region', \n",
    "    'Tab2 Deaths - no pos test': 'ignore', \n",
    "    'Tab3 Deaths by age': 'deaths by age',\n",
    "    'Tab4 Deaths by trust': 'deaths by trust',\n",
    "    'Contents': 'ignore',\n",
    "    'Fig1 Daily deaths': 'ignore',\n",
    "    'COVID19 daily deaths chart': 'ignore',\n",
    "    'Deaths by region- no pos test ':  'ignore',\n",
    "    'Deaths by region-negative test ': 'ignore',\n",
    "    'Deaths by region - no pos test ':  'ignore',\n",
    "    'COVID19 total deaths chart': 'ignore',\n",
    "    'COVID19 total deaths by trust': 'deaths by trust',\n",
    "    'COVID19 total deaths by region': 'deaths by region',\n",
    "    'COVID19 total deaths by age': 'deaths by age',\n",
    "    'COVID19 all deaths by ethnicity': 'deaths by ethnicity',\n",
    "    'COVID19 all deaths by gender': 'deaths by gender',\n",
    "    'COVID19 all deaths by condition': 'ignore',\n",
    "    'Tab1 Deaths by ethnicity': 'deaths by ethnicity',\n",
    "    'Tab2 Deaths by gender': 'deaths by gender', \n",
    "    'Tab3 Deaths by condition': 'ignore',\n",
    "    'Tab4 Deaths by cond (detail)': 'deaths by condition'\n",
    "}"
   ]
  },
  {
   "cell_type": "markdown",
   "metadata": {},
   "source": [
    "The following tries to clean things automatically - we drop the national aggregate values:"
   ]
  },
  {
   "cell_type": "code",
   "execution_count": 31,
   "metadata": {},
   "outputs": [],
   "source": [
    "# Should work for:\n",
    "#COVID19 total deaths by trust\n",
    "#COVID19 total deaths by region\n",
    "#COVID19 total deaths by age\n",
    "#COVID19 all deaths by ethnicity\n",
    "#COVID19 all deaths by gender\n",
    "\n",
    "# Currently excludes:\n",
    "#COVID19 total deaths chart\n",
    "#Deaths by region - no pos test\n",
    "#COVID19 all deaths by condition\n",
    "\n",
    "def cleaner(sheets):\n",
    "    for sheet in sheets:\n",
    "        #if 'chart' in sheet or 'no pos' in sheet or 'condition' in sheet:\n",
    "        #    continue\n",
    "        if sheet not in sheet_aliases or sheet_aliases[sheet]=='ignore':\n",
    "            continue\n",
    "        rows, cols = np.where(sheets[sheet] == 'Published:')\n",
    "        published_date = sheets[sheet].iat[rows[0], cols[0]+1]\n",
    "        print('1',sheet_aliases[sheet])\n",
    "        if 'age' in sheet or 'gender' in sheet_aliases[sheet]:\n",
    "            rows, cols = np.where(sheets[sheet] == 'Age group')\n",
    "            #print((rows, cols))\n",
    "            _ix= rows[0]\n",
    "        elif 'ethnicity' in sheet_aliases[sheet]:\n",
    "            rows, cols = np.where(sheets[sheet] == 'Ethnic group')\n",
    "            #print((rows, cols))\n",
    "            _ix= rows[0]\n",
    "        elif 'condition' in sheet_aliases[sheet]:\n",
    "            rows, cols = np.where(sheets[sheet] == 'Date introduced')\n",
    "            _ix= rows[0]\n",
    "        else:\n",
    "            rows, cols = np.where(sheets[sheet] == 'NHS England Region')\n",
    "            #print((sheet, rows, cols))\n",
    "            _ix= rows[0] #ix[sheet][0]\n",
    "\n",
    "        colnames = sheets[sheet].iloc[_ix]\n",
    "        sheets[sheet] = sheets[sheet].iloc[_ix+3:]\n",
    "        sheets[sheet].columns = colnames\n",
    "        sheets[sheet].dropna(axis=1, how='all', inplace=True)\n",
    "        sheets[sheet].dropna(axis=0, how='all', inplace=True)\n",
    "        sheets[sheet] = sheets[sheet].loc[:, sheets[sheet].columns.notnull()]\n",
    "        #display(f'Checking: {sheet}')\n",
    "        sheets[sheet]['Published'] = published_date\n",
    "        sheets[sheet].reset_index(inplace=True, drop=True)\n",
    "        \n",
    "        # Drop lines after Notes\n",
    "        rows, cols = np.where(sheets[sheet] == 'Notes:')\n",
    "        if rows:\n",
    "            sheets[sheet].drop(sheets[sheet].index[rows[0]:], inplace=True)\n",
    "         #sheets[sheet].dropna(axis=0, subset=[sheets[sheet].columns[0]], inplace=True)\n",
    "    return sheets"
   ]
  },
  {
   "cell_type": "markdown",
   "metadata": {},
   "source": [
    "Grab all the daily reports:"
   ]
  },
  {
   "cell_type": "code",
   "execution_count": 47,
   "metadata": {
    "lines_to_next_cell": 2
   },
   "outputs": [
    {
     "name": "stdout",
     "output_type": "stream",
     "text": [
      "COVID 19 daily announced deaths 23 May 2020\n"
     ]
    },
    {
     "name": "stderr",
     "output_type": "stream",
     "text": [
      "/usr/local/lib/python3.7/site-packages/pandas/core/ops/__init__.py:1115: FutureWarning: elementwise comparison failed; returning scalar instead, but in the future will perform elementwise comparison\n",
      "  result = method(y)\n",
      "/usr/local/lib/python3.7/site-packages/ipykernel_launcher.py:50: DeprecationWarning: The truth value of an empty array is ambiguous. Returning False, but in future this will result in an error. Use `array.size > 0` to check that an array is not empty.\n"
     ]
    },
    {
     "name": "stdout",
     "output_type": "stream",
     "text": [
      "1 deaths by region\n",
      "1 deaths by age\n",
      "1 deaths by trust\n",
      "COVID 19 daily announced deaths 22 May 2020\n",
      "1 deaths by region\n",
      "1 deaths by age\n",
      "1 deaths by trust\n",
      "COVID 19 daily announced deaths 21 May 2020\n",
      "1 deaths by region\n",
      "1 deaths by age\n",
      "1 deaths by trust\n",
      "COVID 19 daily announced deaths 20 May 2020\n",
      "1 deaths by region\n",
      "1 deaths by age\n",
      "1 deaths by trust\n",
      "COVID 19 daily announced deaths 19 May 2020\n",
      "1 deaths by region\n",
      "1 deaths by age\n",
      "1 deaths by trust\n",
      "COVID 19 daily announced deaths 18 May 2020\n",
      "1 deaths by region\n",
      "1 deaths by age\n",
      "1 deaths by trust\n",
      "COVID 19 daily announced deaths 17 May 2020\n",
      "1 deaths by region\n",
      "1 deaths by age\n",
      "1 deaths by trust\n",
      "COVID 19 daily announced deaths 16 May 2020\n",
      "1 deaths by region\n",
      "1 deaths by age\n",
      "1 deaths by trust\n",
      "COVID 19 daily announced deaths 15 May 2020\n",
      "1 deaths by region\n",
      "1 deaths by age\n",
      "1 deaths by trust\n",
      "COVID 19 daily announced deaths 14 May 2020\n",
      "1 deaths by region\n",
      "1 deaths by age\n",
      "1 deaths by trust\n",
      "COVID 19 daily announced deaths 13 May 2020\n",
      "1 deaths by region\n",
      "1 deaths by age\n",
      "1 deaths by trust\n",
      "COVID 19 daily announced deaths 12 May 2020\n",
      "Broke with sheets: odict_keys(['COVID19 daily deaths chart', 'COVID19 daily deaths by region', 'Deaths by region- no pos test ', 'COVID19 daily deaths by age', 'COVID19 daily deaths by trust'])\n",
      "COVID 19 daily announced deaths 11 May 2020\n",
      "1 deaths by region\n",
      "1 deaths by age\n",
      "1 deaths by trust\n",
      "COVID 19 daily announced deaths 10 May 2020\n",
      "1 deaths by region\n",
      "1 deaths by age\n",
      "1 deaths by trust\n",
      "COVID 19 daily announced deaths 9 May 2020\n",
      "1 deaths by region\n",
      "1 deaths by age\n",
      "1 deaths by trust\n",
      "COVID 19 daily announced deaths 8 May 2020\n",
      "1 deaths by region\n",
      "1 deaths by age\n",
      "1 deaths by trust\n",
      "COVID 19 daily announced deaths 7 May 2020\n",
      "1 deaths by region\n",
      "1 deaths by age\n",
      "1 deaths by trust\n",
      "COVID 19 daily announced deaths 6 May 2020\n",
      "1 deaths by region\n",
      "1 deaths by age\n",
      "1 deaths by trust\n",
      "COVID 19 daily announced deaths 5 May 2020\n",
      "1 deaths by region\n",
      "1 deaths by age\n",
      "1 deaths by trust\n",
      "COVID 19 daily announced deaths 4 May 2020\n",
      "1 deaths by region\n",
      "1 deaths by age\n",
      "1 deaths by trust\n",
      "COVID 19 daily announced deaths 3 May 2020\n",
      "1 deaths by region\n",
      "1 deaths by age\n",
      "1 deaths by trust\n",
      "COVID 19 daily announced deaths 2 May 2020\n",
      "1 deaths by region\n",
      "1 deaths by age\n",
      "1 deaths by trust\n",
      "COVID 19 daily announced deaths 1 May 2020\n",
      "1 deaths by region\n",
      "1 deaths by age\n",
      "1 deaths by trust\n",
      "COVID 19 daily announced deaths 30 April 2020\n",
      "1 deaths by region\n",
      "1 deaths by age\n",
      "1 deaths by trust\n",
      "COVID 19 daily announced deaths 29 April 2020\n",
      "1 deaths by region\n",
      "1 deaths by age\n",
      "1 deaths by trust\n",
      "COVID 19 daily announced deaths 28 April 2020\n",
      "1 deaths by region\n",
      "1 deaths by age\n",
      "1 deaths by trust\n",
      "COVID 19 daily announced deaths 27 April 2020\n",
      "1 deaths by region\n",
      "1 deaths by age\n",
      "1 deaths by trust\n",
      "COVID 19 daily announced deaths 26 April 2020\n",
      "1 deaths by region\n",
      "1 deaths by age\n",
      "1 deaths by trust\n",
      "COVID 19 daily announced deaths 25 April 2020\n",
      "1 deaths by region\n",
      "1 deaths by age\n",
      "1 deaths by trust\n",
      "COVID 19 daily announced deaths 24 April 2020\n",
      "1 deaths by region\n",
      "1 deaths by age\n",
      "1 deaths by trust\n",
      "COVID 19 daily announced deaths 23 April 2020\n",
      "1 deaths by region\n",
      "1 deaths by age\n",
      "1 deaths by trust\n",
      "COVID 19 daily announced deaths 22 April 2020\n",
      "1 deaths by region\n",
      "1 deaths by age\n",
      "1 deaths by trust\n",
      "COVID 19 daily announced deaths 21 April 2020\n",
      "1 deaths by region\n",
      "1 deaths by age\n",
      "1 deaths by trust\n",
      "COVID 19 daily announced deaths 20 April 2020\n",
      "1 deaths by region\n",
      "1 deaths by age\n",
      "1 deaths by trust\n",
      "COVID 19 daily announced deaths 19 April 2020\n",
      "1 deaths by region\n",
      "1 deaths by age\n",
      "1 deaths by trust\n",
      "COVID 19 daily announced deaths 18 April 2020\n",
      "1 deaths by region\n",
      "1 deaths by age\n",
      "1 deaths by trust\n",
      "COVID 19 daily announced deaths 17 April 2020\n",
      "1 deaths by region\n",
      "1 deaths by age\n",
      "1 deaths by trust\n",
      "COVID 19 daily announced deaths 16 April 2020\n",
      "1 deaths by region\n",
      "1 deaths by age\n",
      "1 deaths by trust\n",
      "COVID 19 daily announced deaths 15 April 2020\n",
      "1 deaths by region\n",
      "1 deaths by age\n",
      "1 deaths by trust\n",
      "COVID 19 daily announced deaths 14 April 2020\n",
      "1 deaths by region\n",
      "1 deaths by age\n",
      "1 deaths by trust\n",
      "COVID 19 daily announced deaths 13 April 2020\n",
      "1 deaths by region\n",
      "1 deaths by age\n",
      "1 deaths by trust\n",
      "COVID 19 daily announced deaths 12 April 2020\n",
      "1 deaths by region\n",
      "1 deaths by age\n",
      "1 deaths by trust\n",
      "COVID 19 daily announced deaths 11 April 2020\n",
      "1 deaths by region\n",
      "1 deaths by age\n",
      "1 deaths by trust\n",
      "COVID 19 daily announced deaths 10 April 2020\n",
      "1 deaths by region\n",
      "1 deaths by age\n",
      "1 deaths by trust\n",
      "COVID 19 daily announced deaths 9 April 2020\n",
      "1 deaths by region\n",
      "1 deaths by age\n",
      "1 deaths by trust\n",
      "COVID 19 daily announced deaths 8 April 2020\n",
      "1 deaths by region\n",
      "1 deaths by age\n",
      "1 deaths by trust\n",
      "COVID 19 daily announced deaths 7 April 2020\n",
      "1 deaths by region\n",
      "1 deaths by age\n",
      "1 deaths by trust\n",
      "COVID 19 daily announced deaths 6 April 2020\n",
      "1 deaths by region\n",
      "1 deaths by age\n",
      "1 deaths by trust\n",
      "COVID 19 daily announced deaths 5 April 2020\n",
      "1 deaths by region\n",
      "1 deaths by age\n",
      "1 deaths by trust\n",
      "COVID 19 daily announced deaths 4 April 2020\n",
      "1 deaths by region\n",
      "1 deaths by age\n",
      "1 deaths by trust\n",
      "COVID 19 daily announced deaths 3 April 2020\n",
      "1 deaths by age\n",
      "1 deaths by region\n",
      "1 deaths by trust\n",
      "COVID 19 daily announced deaths 2 April 2020\n",
      "1 deaths by age\n",
      "1 deaths by region\n",
      "1 deaths by trust\n"
     ]
    }
   ],
   "source": [
    "data = {}\n",
    "\n",
    "tabs = []\n",
    "for link in links:\n",
    "    if link in already_processed:\n",
    "        continue\n",
    "    try:\n",
    "        print(link)\n",
    "        sheets = pd.read_excel(links[link], sheet_name=None)\n",
    "        for k in sheets.keys():\n",
    "            if k not in tabs:\n",
    "                tabs.append(k)\n",
    "        sheets = cleaner(sheets)\n",
    "        data[link] = sheets\n",
    "        processed.insert({\"reference\": link})\n",
    "    except:\n",
    "        print(\"Broke with sheets:\", sheets.keys())\n",
    "        exit(-1)"
   ]
  },
  {
   "cell_type": "code",
   "execution_count": null,
   "metadata": {
    "tags": [
     "active-ipynb"
    ]
   },
   "outputs": [],
   "source": [
    "tabs"
   ]
  },
  {
   "cell_type": "code",
   "execution_count": null,
   "metadata": {
    "tags": [
     "active-ipynb"
    ]
   },
   "outputs": [],
   "source": [
    "data.keys()"
   ]
  },
  {
   "cell_type": "markdown",
   "metadata": {},
   "source": [
    "Just as an aside, we can informally extract the publication date of a spreadheet from the associated link text on the original web page (trusting that the link does refer to the correctly linked document):"
   ]
  },
  {
   "cell_type": "code",
   "execution_count": null,
   "metadata": {},
   "outputs": [],
   "source": [
    "from parse import parse\n",
    "import dateparser\n",
    "\n",
    "def getLinkDate(link):\n",
    "    \"\"\"Get date from link text.\"\"\"\n",
    "    _date = parse('COVID 19 daily announced deaths {date}', link)['date']\n",
    "    return dateparser.parse(_date)"
   ]
  },
  {
   "cell_type": "code",
   "execution_count": null,
   "metadata": {
    "tags": [
     "active-ipynb"
    ]
   },
   "outputs": [],
   "source": [
    "#Test the date extractor\n",
    "getLinkDate('COVID 19 daily announced deaths 15 April 2020')"
   ]
  },
  {
   "cell_type": "code",
   "execution_count": null,
   "metadata": {
    "tags": [
     "active-ipynb"
    ]
   },
   "outputs": [],
   "source": [
    "data['COVID 19 daily announced deaths 9 April 2020'].keys()"
   ]
  },
  {
   "cell_type": "markdown",
   "metadata": {},
   "source": [
    "Preview what sort of data we've got:"
   ]
  },
  {
   "cell_type": "code",
   "execution_count": null,
   "metadata": {
    "tags": [
     "active-ipynb"
    ]
   },
   "outputs": [],
   "source": [
    "df = data['COVID 19 daily announced deaths 9 April 2020']['COVID19 daily deaths by trust']\n",
    "df"
   ]
  },
  {
   "cell_type": "markdown",
   "metadata": {},
   "source": [
    "Preview a specific area, albeit with quite an informal search term:"
   ]
  },
  {
   "cell_type": "code",
   "execution_count": null,
   "metadata": {
    "tags": [
     "active-ipynb"
    ]
   },
   "outputs": [],
   "source": [
    "df = data['COVID 19 daily announced deaths 4 April 2020']['COVID19 daily deaths by trust']\n",
    "df[df['Name'].str.contains('WIGHT')]"
   ]
  },
  {
   "cell_type": "markdown",
   "metadata": {},
   "source": [
    "Grab the totals:"
   ]
  },
  {
   "cell_type": "code",
   "execution_count": null,
   "metadata": {},
   "outputs": [],
   "source": [
    "totals_xl = pd.read_excel(totals_link, sheet_name=None)\n",
    "totals_xl.keys()"
   ]
  },
  {
   "cell_type": "code",
   "execution_count": null,
   "metadata": {},
   "outputs": [],
   "source": [
    "weekly_totals_xl =  pd.read_excel(weekly_totals_link, sheet_name=None)\n",
    "weekly_totals_xl.keys()"
   ]
  },
  {
   "cell_type": "code",
   "execution_count": null,
   "metadata": {},
   "outputs": [],
   "source": [
    "#totals_xl['Tab4 Deaths by cond (detail)']"
   ]
  },
  {
   "cell_type": "code",
   "execution_count": null,
   "metadata": {},
   "outputs": [],
   "source": [
    "totals_xl = cleaner(totals_xl)\n",
    "totals_xl.keys()"
   ]
  },
  {
   "cell_type": "code",
   "execution_count": null,
   "metadata": {},
   "outputs": [],
   "source": [
    "weekly_totals_xl = cleaner(weekly_totals_xl)\n",
    "weekly_totals_xl.keys()"
   ]
  },
  {
   "cell_type": "code",
   "execution_count": null,
   "metadata": {},
   "outputs": [],
   "source": [
    "totals_xl"
   ]
  },
  {
   "cell_type": "code",
   "execution_count": null,
   "metadata": {
    "tags": [
     "active-ipynb"
    ]
   },
   "outputs": [],
   "source": [
    "#dfs = totals_xl['COVID19 total deaths by trust']\n",
    "#dfs[dfs['Name'].str.contains('WIGHT')]"
   ]
  },
  {
   "cell_type": "markdown",
   "metadata": {},
   "source": [
    "## Adding NHS Daily Data to a Database\n",
    "\n",
    "The data is perhaps most easily managed in a long form. We could normalise the data properly across several tables, or for mow we can just grab perhaps slightly denormalised tables for the dates and separate tables for totals and result awaiting verification:"
   ]
  },
  {
   "cell_type": "code",
   "execution_count": null,
   "metadata": {
    "tags": [
     "active-ipynb"
    ]
   },
   "outputs": [],
   "source": [
    "df_dailies = df.drop(columns=['Awaiting verification', 'Total'])\n",
    "tmp = df_dailies.melt(id_vars=['NHS England Region','Code','Name', 'Published'],\n",
    "                      var_name='Date',\n",
    "                      value_name='value')\n",
    "tmp.head()"
   ]
  },
  {
   "cell_type": "markdown",
   "metadata": {},
   "source": [
    "Find the days lag between published and strike date:"
   ]
  },
  {
   "cell_type": "code",
   "execution_count": null,
   "metadata": {
    "tags": [
     "active-ipynb"
    ]
   },
   "outputs": [],
   "source": [
    "tmp['Date'] = pd.to_datetime(tmp['Date'])\n",
    "tmp['lag'] = tmp['Published'] - tmp['Date']\n",
    "tmp.head()"
   ]
  },
  {
   "cell_type": "markdown",
   "metadata": {},
   "source": [
    "Create a simple SQLite database:"
   ]
  },
  {
   "cell_type": "markdown",
   "metadata": {},
   "source": [
    "Add the daily data to the db:"
   ]
  },
  {
   "cell_type": "code",
   "execution_count": null,
   "metadata": {
    "tags": [
     "active-ipynb"
    ]
   },
   "outputs": [],
   "source": [
    "#df_long.head()"
   ]
  },
  {
   "cell_type": "code",
   "execution_count": null,
   "metadata": {},
   "outputs": [],
   "source": [
    "idx = {'trust': ['NHS England Region','Code','Name', 'Published'],\n",
    "       'age': ['Age group', 'Published'],\n",
    "       'region': ['NHS England Region', 'Published'] }\n",
    "\n",
    "for daily in data.keys():\n",
    "    #print(daily)\n",
    "    #linkDate = getLinkDate(daily)\n",
    "    # TO DO - get data from excluded sheets\n",
    "    if daily in already_processed:\n",
    "        continue\n",
    "    for sheet in data[daily].keys():\n",
    "        if sheet not in sheet_aliases or sheet_aliases[sheet]=='ignore':\n",
    "            continue\n",
    "        #print(sheet)\n",
    "        table = parse('deaths by {table}', sheet_aliases[sheet])['table']\n",
    "        #print(f'Using table {table}')\n",
    "        df_dailies = data[daily][sheet].drop(columns=['Awaiting verification', 'Total'])\n",
    "        #df_dailies['Link_date'] = linkDate\n",
    "        idx_cols = idx[table]#+['Link_date']\n",
    "        df_long = df_dailies.melt(id_vars=idx_cols,\n",
    "                                  var_name='Date',\n",
    "                                  value_name='value')\n",
    "        df_long['Date'] = pd.to_datetime(df_long['Date'])\n",
    "        if df_long['Published'].dtype == 'O':\n",
    "            df_long['Published'] = df_long['Published'].apply(dateparser.parse)\n",
    "        df_long['lag'] = (df_long['Published'] - df_long['Date']).dt.days\n",
    "\n",
    "        _table = f'nhs_dailies_{table}'\n",
    "        df_long.to_sql(_table, DB.conn, index=False, if_exists='append')\n",
    "        \n",
    "        cols = idx[table] + ['Awaiting verification', 'Total']\n",
    "        data[daily][sheet][cols].to_sql(f'{_table}_summary',\n",
    "                                        DB.conn, index=False, if_exists='append')\n",
    "        \n",
    "    processed.insert({\"reference\": daily})"
   ]
  },
  {
   "cell_type": "markdown",
   "metadata": {},
   "source": [
    "Dummy query on `age` sheet:"
   ]
  },
  {
   "cell_type": "code",
   "execution_count": null,
   "metadata": {
    "tags": [
     "active-ipynb"
    ]
   },
   "outputs": [],
   "source": [
    "pd.read_sql(\"SELECT * FROM nhs_dailies_age LIMIT 25\", DB.conn)"
   ]
  },
  {
   "cell_type": "markdown",
   "metadata": {},
   "source": [
    "Dummy query on `age_summary` sheet:"
   ]
  },
  {
   "cell_type": "code",
   "execution_count": null,
   "metadata": {
    "tags": [
     "active-ipynb"
    ]
   },
   "outputs": [],
   "source": [
    "pd.read_sql(\"SELECT * FROM nhs_dailies_age_summary LIMIT 5\", DB.conn)"
   ]
  },
  {
   "cell_type": "markdown",
   "metadata": {},
   "source": [
    "Dummy query on `trust` sheet:"
   ]
  },
  {
   "cell_type": "code",
   "execution_count": null,
   "metadata": {
    "tags": [
     "active-ipynb"
    ]
   },
   "outputs": [],
   "source": [
    "pd.read_sql(\"SELECT * FROM nhs_dailies_trust LIMIT 5\", DB.conn)"
   ]
  },
  {
   "cell_type": "markdown",
   "metadata": {},
   "source": [
    "Dummy query on `trust_summary` sheet:"
   ]
  },
  {
   "cell_type": "code",
   "execution_count": null,
   "metadata": {
    "tags": [
     "active-ipynb"
    ]
   },
   "outputs": [],
   "source": [
    "pd.read_sql(\"SELECT * FROM nhs_dailies_trust_summary LIMIT 5\", DB.conn)"
   ]
  },
  {
   "cell_type": "markdown",
   "metadata": {},
   "source": [
    "Dummy query on `region` sheet:"
   ]
  },
  {
   "cell_type": "code",
   "execution_count": null,
   "metadata": {
    "tags": [
     "active-ipynb"
    ]
   },
   "outputs": [],
   "source": [
    "pd.read_sql(\"SELECT * FROM nhs_dailies_region LIMIT 25\", DB.conn)"
   ]
  },
  {
   "cell_type": "markdown",
   "metadata": {},
   "source": [
    "Dummy query on `region_summary` sheet:"
   ]
  },
  {
   "cell_type": "code",
   "execution_count": null,
   "metadata": {
    "tags": [
     "active-ipynb"
    ]
   },
   "outputs": [],
   "source": [
    "pd.read_sql(\"SELECT * FROM nhs_dailies_region_summary LIMIT 25\", DB.conn)"
   ]
  },
  {
   "cell_type": "markdown",
   "metadata": {},
   "source": [
    "### Adding NHS Totals Data to Database"
   ]
  },
  {
   "cell_type": "code",
   "execution_count": null,
   "metadata": {
    "tags": [
     "active-ipynb"
    ]
   },
   "outputs": [],
   "source": [
    "totals_xl.keys()"
   ]
  },
  {
   "cell_type": "code",
   "execution_count": null,
   "metadata": {},
   "outputs": [],
   "source": [
    "for sheet in totals_xl.keys():\n",
    "    if sheet not in sheet_aliases or sheet_aliases[sheet]=='ignore':\n",
    "            continue\n",
    "    table = parse('deaths by {table}', sheet_aliases[sheet])['table']\n",
    "    _table = f'nhs_totals_{table}'\n",
    "    if 'ethnicity' not in table and 'gender' not in table and 'condition' not in table:\n",
    "        df_totals = totals_xl[sheet].drop(columns=['Awaiting verification', 'Total', 'Up to 01-Mar-20'])\n",
    "        idx_cols = idx[table]\n",
    "        df_long = df_totals.melt(id_vars=idx_cols,\n",
    "                                  var_name='Date',\n",
    "                                  value_name='value')\n",
    "        df_long['Date'] = pd.to_datetime(df_long['Date'])\n",
    "        if df_long['Published'].dtype == 'O':\n",
    "            df_long['Published'] = df_long['Published'].apply(dateparser.parse)\n",
    "        df_long['lag'] = (df_long['Published'] - df_long['Date']).dt.days\n",
    "\n",
    "        df_long.to_sql(_table, DB.conn, index=False, if_exists='append')\n",
    "\n",
    "        cols = idx_cols + ['Up to 01-Mar-20', 'Awaiting verification', 'Total']\n",
    "        totals_xl[sheet][cols].to_sql(f'{_table}_summary',\n",
    "                                        DB.conn, index=False, if_exists='append')\n",
    "    else:\n",
    "        totals_xl[sheet].to_sql(f'{_table}', DB.conn, index=False, if_exists='append')"
   ]
  },
  {
   "cell_type": "code",
   "execution_count": null,
   "metadata": {},
   "outputs": [],
   "source": [
    "for sheet in weekly_totals_xl.keys():\n",
    "    if sheet not in sheet_aliases or sheet_aliases[sheet]=='ignore':\n",
    "            continue\n",
    "    table = parse('deaths by {table}', sheet_aliases[sheet])['table']\n",
    "    _table = f'nhs_weekly_totals_{table}'\n",
    "    if 'ethnicity' not in table and 'gender' not in table and 'condition' not in table:\n",
    "        df_totals = weekly_totals_xl[sheet].drop(columns=['Awaiting verification', 'Total', 'Up to 01-Mar-20'])\n",
    "        idx_cols = idx[table]\n",
    "        df_long = df_totals.melt(id_vars=idx_cols,\n",
    "                                  var_name='Date',\n",
    "                                  value_name='value')\n",
    "        df_long['Date'] = pd.to_datetime(df_long['Date'])\n",
    "        if df_long['Published'].dtype == 'O':\n",
    "            df_long['Published'] = df_long['Published'].apply(dateparser.parse)\n",
    "        df_long['lag'] = (df_long['Published'] - df_long['Date']).dt.days\n",
    "\n",
    "        df_long.to_sql(_table, DB.conn, index=False, if_exists='append')\n",
    "\n",
    "        cols = idx_cols + ['Up to 01-Mar-20', 'Awaiting verification', 'Total']\n",
    "        weekly_totals_xl[sheet][cols].to_sql(f'{_table}_summary',\n",
    "                                        DB.conn, index=False, if_exists='append')\n",
    "    else:\n",
    "        weekly_totals_xl[sheet].to_sql(f'{_table}', DB.conn, index=False, if_exists='append')"
   ]
  },
  {
   "cell_type": "code",
   "execution_count": null,
   "metadata": {
    "tags": [
     "active-ipynb"
    ]
   },
   "outputs": [],
   "source": [
    "DB.table_names()"
   ]
  },
  {
   "cell_type": "code",
   "execution_count": null,
   "metadata": {
    "tags": [
     "active-ipynb"
    ]
   },
   "outputs": [],
   "source": [
    "#pd.read_sql(\"SELECT * FROM nhs_totals_region_summary LIMIT 25\", DB.conn)"
   ]
  },
  {
   "cell_type": "markdown",
   "metadata": {},
   "source": [
    "## Basic Charts\n",
    "\n",
    "Let's try some basic charts. For example, "
   ]
  },
  {
   "cell_type": "code",
   "execution_count": null,
   "metadata": {
    "tags": [
     "active-ipynb"
    ]
   },
   "outputs": [],
   "source": [
    "zz = pd.read_sql(\"SELECT * FROM nhs_totals_region WHERE `NHS England Region`='London' and Date=DATETIME('2020-04-09')\", DB.conn)\n",
    "zz"
   ]
  },
  {
   "cell_type": "markdown",
   "metadata": {},
   "source": [
    "How long does it take for a particular hospital to report deaths (i.e. what's the lag distribution between the publication date and the strike date?)?\n",
    "\n",
    "The following chart sums the number of deaths reported relative to the delay in reporting them:"
   ]
  },
  {
   "cell_type": "code",
   "execution_count": null,
   "metadata": {
    "tags": [
     "active-ipynb"
    ]
   },
   "outputs": [],
   "source": [
    "pd.read_sql(\"SELECT value, lag FROM nhs_totals_trust WHERE Name='WEST HERTFORDSHIRE HOSPITALS NHS TRUST'\", DB.conn).groupby(['lag']).sum().plot(kind='bar')"
   ]
  },
  {
   "cell_type": "markdown",
   "metadata": {},
   "source": [
    "## Public Health England\n",
    "\n",
    "Data published by Public Health England:\n",
    "    \n",
    "- [Cases](https://coronavirus.data.gov.uk/downloads/csv/coronavirus-cases_latest.csv)\n",
    "- [Deaths](https://coronavirus.data.gov.uk/downloads/csv/coronavirus-deaths_latest.csv)"
   ]
  },
  {
   "cell_type": "code",
   "execution_count": null,
   "metadata": {},
   "outputs": [],
   "source": [
    "#via https://stackoverflow.com/questions/61415090/python-pandas-handling-of-308-request\n",
    "import requests\n",
    "import io\n",
    "\n",
    "def get_308_csv(url):\n",
    "    datastr = requests.get(url, allow_redirects=True).text\n",
    "    data_file = io.StringIO(datastr)\n",
    "    _df = pd.read_csv(data_file)\n",
    "    _df['Specimen date'] =  pd.to_datetime(_df['Specimen date'])\n",
    "    return _df"
   ]
  },
  {
   "cell_type": "code",
   "execution_count": null,
   "metadata": {},
   "outputs": [],
   "source": [
    "phe_cases_url = 'https://coronavirus.data.gov.uk/downloads/csv/coronavirus-cases_latest.csv'\n",
    "phe_cases_df = get_308_csv(phe_cases_url)\n",
    "\n",
    "_table = f'phe_cases'\n",
    "phe_cases_df.to_sql(_table, DB.conn, index=False, if_exists='replace')\n",
    "    \n",
    "phe_cases_df.head()"
   ]
  },
  {
   "cell_type": "code",
   "execution_count": null,
   "metadata": {
    "tags": [
     "active-ipynb"
    ]
   },
   "outputs": [],
   "source": [
    "pd.read_sql(\"SELECT * FROM phe_cases LIMIT 3\", DB.conn)"
   ]
  },
  {
   "cell_type": "code",
   "execution_count": null,
   "metadata": {},
   "outputs": [],
   "source": [
    "phe_deaths_url = 'https://coronavirus.data.gov.uk/downloads/csv/coronavirus-deaths_latest.csv'\n",
    "phe_deaths_df = get_308_csv(phe_cases_url)\n",
    "\n",
    "_table = f'phe_deaths'\n",
    "phe_cases_df.to_sql(_table, DB.conn, index=False, if_exists='replace')\n",
    "\n",
    "phe_deaths_df.head()"
   ]
  },
  {
   "cell_type": "code",
   "execution_count": null,
   "metadata": {
    "tags": [
     "active-ipynb"
    ]
   },
   "outputs": [],
   "source": [
    "pd.read_sql(\"SELECT * FROM phe_deaths LIMIT 3\", DB.conn)"
   ]
  },
  {
   "cell_type": "markdown",
   "metadata": {},
   "source": [
    "### NHS - A&E\n",
    "\n",
    "Monthly data:\n",
    "https://www.england.nhs.uk/statistics/statistical-work-areas/ae-waiting-times-and-activity/ae-attendances-and-emergency-admissions-2019-20/\n",
    "\n",
    "Hospital Episode Statistics:\n",
    "https://digital.nhs.uk/data-and-information/publications/statistical/hospital-episode-statistics-for-admitted-patient-care-outpatient-and-accident-and-emergency-data"
   ]
  },
  {
   "cell_type": "markdown",
   "metadata": {},
   "source": [
    "## Deployment via datasette\n",
    "\n",
    "`datasette publish fly nhs_dailies.db --app=\"nhs-orgs\"`"
   ]
  },
  {
   "cell_type": "markdown",
   "metadata": {},
   "source": [
    "## Simple Chat"
   ]
  },
  {
   "cell_type": "code",
   "execution_count": null,
   "metadata": {
    "tags": [
     "active-ipynb"
    ]
   },
   "outputs": [],
   "source": [
    "# It takes tiny amounts of code to post s/thing from a notebook to an API and display a result\n",
    "\n",
    "\n",
    "# Create some magic to call and API\n",
    "from IPython.core.magic import register_cell_magic, register_line_magic\n",
    "import requests\n",
    "import pandas as pd\n",
    "\n",
    "from urllib.parse import urlencode\n",
    "    \n",
    "_datasette_url = 'https://nhs-orgs.fly.dev/nhs_dailies/phe_cases.csv?{}'\n",
    "\n",
    "@register_line_magic\n",
    "def phe_cases(line):\n",
    "    \"Query datasette.\"\n",
    "    payload = {'_sort': 'rowid',\n",
    "               'Area name__contains': line,\n",
    "               '_size': 'max'}\n",
    "    _url =  _datasette_url.format(urlencode(payload))\n",
    "    return pd.read_csv( _url)"
   ]
  },
  {
   "cell_type": "code",
   "execution_count": null,
   "metadata": {
    "tags": [
     "active-ipynb"
    ]
   },
   "outputs": [],
   "source": [
    "# Pass a string to the API via some magic and display the result\n",
    "\n",
    "%phe_cases isle of wight"
   ]
  },
  {
   "cell_type": "markdown",
   "metadata": {},
   "source": [
    "## Run as file"
   ]
  },
  {
   "cell_type": "code",
   "execution_count": null,
   "metadata": {
    "tags": [
     "active-ipynb"
    ]
   },
   "outputs": [],
   "source": [
    "!python3 uk_daily_deaths_nhs.py"
   ]
  },
  {
   "cell_type": "markdown",
   "metadata": {},
   "source": [
    "## Looking Inside Downloaded Zip Files"
   ]
  },
  {
   "cell_type": "code",
   "execution_count": null,
   "metadata": {
    "tags": [
     "active-ipynb"
    ]
   },
   "outputs": [],
   "source": [
    "#https://techoverflow.net/2018/01/16/downloading-reading-a-zip-file-in-memory-using-python/\n",
    "import zipfile\n",
    "\n",
    "def download_extract_xml(url):\n",
    "    \"\"\"\n",
    "    Download a ZIP file and extract its contents in memory\n",
    "    yields (filename, file-like object) pairs\n",
    "    \"\"\"\n",
    "    response = requests.get(url)\n",
    "    with zipfile.ZipFile(io.BytesIO(response.content)) as thezip:\n",
    "        for zipinfo in thezip.infolist():\n",
    "            with thezip.open(zipinfo) as thefile:\n",
    "                yield zipinfo.filename, thefile\n",
    "                \n",
    "r = download_extract_xml(ons_weekly_url)\n",
    "for f in r:\n",
    "    print(f)"
   ]
  }
 ],
 "metadata": {
  "celltoolbar": "Tags",
  "jupytext": {
   "encoding": "# -*- coding: utf-8 -*-",
   "formats": "ipynb,py:light"
  },
  "kernelspec": {
   "display_name": "Python 3",
   "language": "python",
   "name": "python3"
  },
  "language_info": {
   "codemirror_mode": {
    "name": "ipython",
    "version": 3
   },
   "file_extension": ".py",
   "mimetype": "text/x-python",
   "name": "python",
   "nbconvert_exporter": "python",
   "pygments_lexer": "ipython3",
   "version": "3.7.6"
  }
 },
 "nbformat": 4,
 "nbformat_minor": 2
}
